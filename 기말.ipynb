{
 "cells": [
  {
   "cell_type": "code",
   "execution_count": 6,
   "metadata": {},
   "outputs": [],
   "source": [
    "from bs4 import BeautifulSoup\n",
    "from urllib.request import urlopen\n",
    "from tqdm import tqdm_notebook\n",
    "import pandas as pd\n",
    "import urllib"
   ]
  },
  {
   "cell_type": "code",
   "execution_count": 23,
   "metadata": {},
   "outputs": [
    {
     "name": "stdout",
     "output_type": "stream",
     "text": [
      "랭킹 : 네이버 영화\n",
      "<title>랭킹 : 네이버 영화</title>\n"
     ]
    }
   ],
   "source": [
    "import requests\n",
    "from bs4 import BeautifulSoup\n",
    "\n",
    "res = requests.get('https://movie.naver.com/movie/sdb/rank/rmovie.nhn?sel=cur&date=20201201')\n",
    "\n",
    "soup = BeautifulSoup(res.content, 'html.parser')\n",
    "\n",
    "title = soup.find('title')\n",
    "\n",
    "print(title.get_text()) # 텍스트만 출력\n",
    "print(title) # 태그까지 출력"
   ]
  },
  {
   "cell_type": "code",
   "execution_count": 26,
   "metadata": {},
   "outputs": [
    {
     "data": {
      "text/plain": [
       "<Response [200]>"
      ]
     },
     "execution_count": 26,
     "metadata": {},
     "output_type": "execute_result"
    }
   ],
   "source": [
    "res"
   ]
  },
  {
   "cell_type": "code",
   "execution_count": 28,
   "metadata": {},
   "outputs": [
    {
     "data": {
      "text/plain": [
       "<td class=\"blank01\" colspan=\"8\"></td>"
      ]
     },
     "execution_count": 28,
     "metadata": {},
     "output_type": "execute_result"
    }
   ],
   "source": [
    "soup.find('td')"
   ]
  },
  {
   "cell_type": "code",
   "execution_count": 67,
   "metadata": {},
   "outputs": [
    {
     "name": "stdout",
     "output_type": "stream",
     "text": [
      "['9.40']\n"
     ]
    }
   ],
   "source": [
    "# .은 태그의 클래스를 검색\n",
    "# class가 article_view인 태그 탐색\n",
    "#point_list = soup.find_all(\"td\", class_=\"point\") # .에서 해당되는 클래스를 선택하고 [0]번째 인덱스를 가져옴\n",
    "#print (type(body), len(body))\n",
    "# print(point_list)\n",
    "\n",
    "print (soup.find_all(string='9.40'))"
   ]
  },
  {
   "cell_type": "code",
   "execution_count": 58,
   "metadata": {},
   "outputs": [
    {
     "data": {
      "text/plain": [
       "['극장판 바이올렛 에버가든',\n",
       " '부활: 그 증거',\n",
       " '소년시절의 너',\n",
       " '페이트 스테이 나이트 헤븐즈필 III.스프링 송',\n",
       " '톰보이',\n",
       " '사랑의 블랙홀',\n",
       " '타오르는 여인의 초상',\n",
       " '당신이 잠든 사이에',\n",
       " '노트북',\n",
       " '타샤 튜더',\n",
       " '비긴 어게인',\n",
       " '온워드: 단 하루의 기적',\n",
       " '윤희에게',\n",
       " '남매의 여름밤',\n",
       " '담보',\n",
       " '해리가 샐리를 만났을 때',\n",
       " '1917',\n",
       " '에이미',\n",
       " '미스터트롯: 더 무비',\n",
       " '위플래쉬',\n",
       " '너의 이름은.',\n",
       " '찬실이는 복도 많지',\n",
       " '귀여운 여인',\n",
       " '잠수종과 나비',\n",
       " '퐁네프의 연인들',\n",
       " '라라랜드',\n",
       " '킹덤 오브 헤븐: 디렉터스 컷',\n",
       " '렛 미 인',\n",
       " '지옥의 묵시록',\n",
       " '삼진그룹 영어토익반',\n",
       " '레볼루셔너리 로드',\n",
       " '셔터 아일랜드',\n",
       " '런',\n",
       " '테넷',\n",
       " '내가 죽던 날',\n",
       " '날씨의 아이',\n",
       " '로미오와 줄리엣',\n",
       " '레버넌트: 죽음에서 돌아온 자',\n",
       " '펀치 드렁크 러브',\n",
       " '아치와 씨팍',\n",
       " '도굴',\n",
       " '초미의 관심사',\n",
       " '아가씨',\n",
       " '호랑이보다 무서운 겨울손님',\n",
       " '투 마더스',\n",
       " '프리키 데스데이',\n",
       " '기기괴괴 성형수',\n",
       " '그린랜드',\n",
       " '이웃사촌',\n",
       " '오케이 마담']"
      ]
     },
     "execution_count": 58,
     "metadata": {},
     "output_type": "execute_result"
    }
   ],
   "source": [
    "movie_title = soup.find_all(\"div\",\"tit5\")\n",
    "\n",
    "movie_name = [movie_title[i].text.strip() for i in range(len(movie_title))]\n",
    "movie_name"
   ]
  },
  {
   "cell_type": "code",
   "execution_count": 63,
   "metadata": {},
   "outputs": [
    {
     "data": {
      "text/plain": [
       "['9.51',\n",
       " '9.43',\n",
       " '9.40',\n",
       " '9.23',\n",
       " '9.20',\n",
       " '9.15',\n",
       " '9.06',\n",
       " '9.06',\n",
       " '9.05',\n",
       " '9.04',\n",
       " '9.03',\n",
       " '9.00',\n",
       " '8.99',\n",
       " '8.97',\n",
       " '8.90',\n",
       " '8.89',\n",
       " '8.86',\n",
       " '8.84',\n",
       " '8.84',\n",
       " '8.79',\n",
       " '8.78',\n",
       " '8.70',\n",
       " '8.70',\n",
       " '8.66',\n",
       " '8.62',\n",
       " '8.61',\n",
       " '8.61',\n",
       " '8.51',\n",
       " '8.45',\n",
       " '8.42',\n",
       " '8.38',\n",
       " '8.38',\n",
       " '8.28',\n",
       " '8.27',\n",
       " '8.09',\n",
       " '7.98',\n",
       " '7.97',\n",
       " '7.84',\n",
       " '7.75',\n",
       " '7.61',\n",
       " '7.50',\n",
       " '7.30',\n",
       " '7.14',\n",
       " '7.03',\n",
       " '7.02',\n",
       " '6.94',\n",
       " '6.88',\n",
       " '6.86',\n",
       " '6.38',\n",
       " '6.32']"
      ]
     },
     "execution_count": 63,
     "metadata": {},
     "output_type": "execute_result"
    }
   ],
   "source": [
    "points = soup.find_all(\"td\",\"point\")\n",
    "movie_point = [points[i].text for i in range(len(points))]\n",
    "movie_point"
   ]
  },
  {
   "cell_type": "code",
   "execution_count": null,
   "metadata": {},
   "outputs": [],
   "source": [
    "movie_name = []\n",
    "movie_point = []\n",
    "\n",
    "movie_name.extend([soup.find_all(\"div\",\"tit5\")[n].a.string for n in range(end)])\n",
    "movie_point.extend([soup.find_all(\"td\",\"point\")[n].string for n in range(end)])"
   ]
  },
  {
   "cell_type": "code",
   "execution_count": 62,
   "metadata": {},
   "outputs": [
    {
     "ename": "NameError",
     "evalue": "name 'end' is not defined",
     "output_type": "error",
     "traceback": [
      "\u001b[1;31m---------------------------------------------------------------------------\u001b[0m",
      "\u001b[1;31mNameError\u001b[0m                                 Traceback (most recent call last)",
      "\u001b[1;32m<ipython-input-62-ea9faf52bef5>\u001b[0m in \u001b[0;36m<module>\u001b[1;34m\u001b[0m\n\u001b[0;32m      2\u001b[0m \u001b[0mmovie_point\u001b[0m \u001b[1;33m=\u001b[0m \u001b[1;33m[\u001b[0m\u001b[1;33m]\u001b[0m\u001b[1;33m\u001b[0m\u001b[1;33m\u001b[0m\u001b[0m\n\u001b[0;32m      3\u001b[0m \u001b[1;33m\u001b[0m\u001b[0m\n\u001b[1;32m----> 4\u001b[1;33m \u001b[0mmovie_name\u001b[0m\u001b[1;33m.\u001b[0m\u001b[0mextend\u001b[0m\u001b[1;33m(\u001b[0m\u001b[1;33m[\u001b[0m\u001b[0msoup\u001b[0m\u001b[1;33m.\u001b[0m\u001b[0mfind_all\u001b[0m\u001b[1;33m(\u001b[0m\u001b[1;34m\"div\"\u001b[0m\u001b[1;33m,\u001b[0m\u001b[1;34m\"tit5\"\u001b[0m\u001b[1;33m)\u001b[0m\u001b[1;33m[\u001b[0m\u001b[0mn\u001b[0m\u001b[1;33m]\u001b[0m\u001b[1;33m.\u001b[0m\u001b[0ma\u001b[0m\u001b[1;33m.\u001b[0m\u001b[0mstring\u001b[0m \u001b[1;32mfor\u001b[0m \u001b[0mn\u001b[0m \u001b[1;32min\u001b[0m \u001b[0mrange\u001b[0m\u001b[1;33m(\u001b[0m\u001b[0mend\u001b[0m\u001b[1;33m)\u001b[0m\u001b[1;33m]\u001b[0m\u001b[1;33m)\u001b[0m\u001b[1;33m\u001b[0m\u001b[1;33m\u001b[0m\u001b[0m\n\u001b[0m\u001b[0;32m      5\u001b[0m \u001b[0mmovie_point\u001b[0m\u001b[1;33m.\u001b[0m\u001b[0mextend\u001b[0m\u001b[1;33m(\u001b[0m\u001b[1;33m[\u001b[0m\u001b[0msoup\u001b[0m\u001b[1;33m.\u001b[0m\u001b[0mfind_all\u001b[0m\u001b[1;33m(\u001b[0m\u001b[1;34m\"td\"\u001b[0m\u001b[1;33m,\u001b[0m\u001b[1;34m\"point\"\u001b[0m\u001b[1;33m)\u001b[0m\u001b[1;33m[\u001b[0m\u001b[0mn\u001b[0m\u001b[1;33m]\u001b[0m\u001b[1;33m.\u001b[0m\u001b[0mstring\u001b[0m \u001b[1;32mfor\u001b[0m \u001b[0mn\u001b[0m \u001b[1;32min\u001b[0m \u001b[0mrange\u001b[0m\u001b[1;33m(\u001b[0m\u001b[0mend\u001b[0m\u001b[1;33m)\u001b[0m\u001b[1;33m]\u001b[0m\u001b[1;33m)\u001b[0m\u001b[1;33m\u001b[0m\u001b[1;33m\u001b[0m\u001b[0m\n",
      "\u001b[1;31mNameError\u001b[0m: name 'end' is not defined"
     ]
    }
   ],
   "source": [
    "movie_name = []\n",
    "movie_point = []\n",
    "\n",
    "movie_name.extend([soup.find_all(\"div\",\"tit5\")[n].a.string for n in range(end)])\n",
    "movie_point.extend([soup.find_all(\"td\",\"point\")[n].string for n in range(end)])"
   ]
  }
 ],
 "metadata": {
  "kernelspec": {
   "display_name": "Python 3",
   "language": "python",
   "name": "python3"
  },
  "language_info": {
   "codemirror_mode": {
    "name": "ipython",
    "version": 3
   },
   "file_extension": ".py",
   "mimetype": "text/x-python",
   "name": "python",
   "nbconvert_exporter": "python",
   "pygments_lexer": "ipython3",
   "version": "3.7.3"
  }
 },
 "nbformat": 4,
 "nbformat_minor": 2
}
