{
 "cells": [
  {
   "cell_type": "code",
   "execution_count": 1,
   "metadata": {},
   "outputs": [
    {
     "name": "stdout",
     "output_type": "stream",
     "text": [
      "시험 점수를 입력하세요 : 2\n",
      "시험에 불합격하셨습니다.\n"
     ]
    }
   ],
   "source": [
    "# 합격 불합격 여부 검사\n",
    "score = int(input(\"시험 점수를 입력하세요 : \"))\n",
    "if score >= 80:\n",
    "   print(\"시험에 합격하셨습니다.\")\n",
    "else:\n",
    "   print(\"시험에 불합격하셨습니다.\")"
   ]
  },
  {
   "cell_type": "code",
   "execution_count": 5,
   "metadata": {},
   "outputs": [
    {
     "name": "stdout",
     "output_type": "stream",
     "text": [
      "10 이상입니다.\n",
      "15입니다.\n"
     ]
    }
   ],
   "source": [
    "# 숫자 맞추기 게임\n",
    "x=15\n",
    " \n",
    "if x >= 10:\n",
    "     print('10 이상입니다.')\n",
    "        \n",
    "     if x == 15:  \n",
    "         print('15입니다.') \n",
    "            \n",
    "     if x == 20:\n",
    "         print('20입니다.')\n"
   ]
  },
  {
   "cell_type": "code",
   "execution_count": 20,
   "metadata": {},
   "outputs": [
    {
     "name": "stdout",
     "output_type": "stream",
     "text": [
      "10 입니다.\n"
     ]
    }
   ],
   "source": [
    "x=10\n",
    "if x < 5:\n",
    "    print('5 이하입니다.')      \n",
    "elif x == 10:  \n",
    "    print('10 입니다.')         \n",
    "else:\n",
    "    print('10 이상입니다.')"
   ]
  },
  {
   "cell_type": "code",
   "execution_count": 23,
   "metadata": {},
   "outputs": [
    {
     "name": "stdout",
     "output_type": "stream",
     "text": [
      "5 이하입니다. 15\n"
     ]
    }
   ],
   "source": [
    "x=15\n",
    "if x%3==0:\n",
    "    print('5 이하입니다.',format(x))"
   ]
  },
  {
   "cell_type": "code",
   "execution_count": 42,
   "metadata": {},
   "outputs": [
    {
     "name": "stdout",
     "output_type": "stream",
     "text": [
      "30 는 3의 배수입니다.\n"
     ]
    }
   ],
   "source": [
    "x=30\n",
    "if x%3==0:\n",
    "    print(format(x),'는 3의 배수입니다.')\n",
    "elif x%5==0:\n",
    "    print(format(x),'는 5의 배수입니다.')\n",
    "else:\n",
    "    print(format(x),'는 3과 5의 배수가 아닙니다.')"
   ]
  },
  {
   "cell_type": "code",
   "execution_count": 51,
   "metadata": {},
   "outputs": [
    {
     "name": "stdout",
     "output_type": "stream",
     "text": [
      "1  *  1  =  1\n",
      "1  *  2  =  2\n",
      "1  *  3  =  3\n",
      "1  *  4  =  4\n",
      "1  *  5  =  5\n",
      "1  *  6  =  6\n",
      "1  *  7  =  7\n",
      "1  *  8  =  8\n",
      "1  *  9  =  9\n",
      "**** 1 단 ****\n",
      "2  *  1  =  2\n",
      "2  *  2  =  4\n",
      "2  *  3  =  6\n",
      "2  *  4  =  8\n",
      "2  *  5  =  10\n",
      "2  *  6  =  12\n",
      "2  *  7  =  14\n",
      "2  *  8  =  16\n",
      "2  *  9  =  18\n",
      "**** 2 단 ****\n",
      "3  *  1  =  3\n",
      "3  *  2  =  6\n",
      "3  *  3  =  9\n",
      "3  *  4  =  12\n",
      "3  *  5  =  15\n",
      "3  *  6  =  18\n",
      "3  *  7  =  21\n",
      "3  *  8  =  24\n",
      "3  *  9  =  27\n",
      "**** 3 단 ****\n",
      "4  *  1  =  4\n",
      "4  *  2  =  8\n",
      "4  *  3  =  12\n",
      "4  *  4  =  16\n",
      "4  *  5  =  20\n",
      "4  *  6  =  24\n",
      "4  *  7  =  28\n",
      "4  *  8  =  32\n",
      "4  *  9  =  36\n",
      "**** 4 단 ****\n",
      "5  *  1  =  5\n",
      "5  *  2  =  10\n",
      "5  *  3  =  15\n",
      "5  *  4  =  20\n",
      "5  *  5  =  25\n",
      "5  *  6  =  30\n",
      "5  *  7  =  35\n",
      "5  *  8  =  40\n",
      "5  *  9  =  45\n",
      "**** 5 단 ****\n",
      "6  *  1  =  6\n",
      "6  *  2  =  12\n",
      "6  *  3  =  18\n",
      "6  *  4  =  24\n",
      "6  *  5  =  30\n",
      "6  *  6  =  36\n",
      "6  *  7  =  42\n",
      "6  *  8  =  48\n",
      "6  *  9  =  54\n",
      "**** 6 단 ****\n",
      "7  *  1  =  7\n",
      "7  *  2  =  14\n",
      "7  *  3  =  21\n",
      "7  *  4  =  28\n",
      "7  *  5  =  35\n",
      "7  *  6  =  42\n",
      "7  *  7  =  49\n",
      "7  *  8  =  56\n",
      "7  *  9  =  63\n",
      "**** 7 단 ****\n",
      "8  *  1  =  8\n",
      "8  *  2  =  16\n",
      "8  *  3  =  24\n",
      "8  *  4  =  32\n",
      "8  *  5  =  40\n",
      "8  *  6  =  48\n",
      "8  *  7  =  56\n",
      "8  *  8  =  64\n",
      "8  *  9  =  72\n",
      "**** 8 단 ****\n",
      "9  *  1  =  9\n",
      "9  *  2  =  18\n",
      "9  *  3  =  27\n",
      "9  *  4  =  36\n",
      "9  *  5  =  45\n",
      "9  *  6  =  54\n",
      "9  *  7  =  63\n",
      "9  *  8  =  72\n",
      "9  *  9  =  81\n",
      "**** 9 단 ****\n",
      "구구단 전체 출력 완료\n"
     ]
    }
   ],
   "source": [
    "# 구구단 출력\n",
    "for i in range(1, 10):\n",
    "    for j in range(1, 10):\n",
    "        print(i, ' * ', j, ' = ', i * j)\n",
    "    else:\n",
    "        print(\"****\", i, \"단 ****\")\n",
    "else:\n",
    "    print(\"구구단 전체 출력 완료\")"
   ]
  },
  {
   "cell_type": "code",
   "execution_count": 4,
   "metadata": {},
   "outputs": [
    {
     "name": "stdout",
     "output_type": "stream",
     "text": [
      "숫자를 맞춰보세요 (1~20)\n",
      "3\n",
      "숫자가 너무 큽니다.\n",
      "5\n",
      "숫자가 너무 큽니다.\n",
      "9\n",
      "숫자가 너무 큽니다.\n",
      "5\n",
      "숫자가 너무 큽니다.\n",
      "2\n",
      "숫자가 너무 큽니다.\n",
      "1\n",
      "정답입니다. 입력한 숫자는  1 입니다.\n"
     ]
    }
   ],
   "source": [
    "import random\n",
    "print('숫자를 맞춰보세요 (1~20)')\n",
    "number = random.randint(1,20)       #랜덤 숫자 생성\n",
    "while True:\n",
    "    guess = input()\n",
    "    if guess == \"x\": ## 프로그램 종료\n",
    "        break\n",
    "    elif int(guess) == number:\n",
    "        print('정답입니다. 입력한 숫자는 ',guess,'입니다.')\n",
    "        break\n",
    "    elif int(guess) > number:\n",
    "        print('숫자가 너무 큽니다.')\n",
    "    elif int(guess) < number:\n",
    "        print('숫자가 너무 작습니다.')\n",
    "    else:\n",
    "        print('잘못입력하셨습니다. 1부터 20까지의 숫자를 입력해 주세요.')"
   ]
  },
  {
   "cell_type": "code",
   "execution_count": 5,
   "metadata": {},
   "outputs": [
    {
     "name": "stdout",
     "output_type": "stream",
     "text": [
      "반복문(while) 사용 : 55\n"
     ]
    }
   ],
   "source": [
    "i = 0\n",
    "result = 0\n",
    "while i < 10:\n",
    "    i = i + 1\n",
    "    result += i\n",
    " \n",
    " \n",
    "print('반복문(while) 사용 : {0}'.format(result))"
   ]
  },
  {
   "cell_type": "code",
   "execution_count": 6,
   "metadata": {},
   "outputs": [
    {
     "name": "stdout",
     "output_type": "stream",
     "text": [
      "1\n",
      "2\n",
      "3\n"
     ]
    }
   ],
   "source": [
    "number = ['1', '2', '3'] \n",
    "for i in number: \n",
    "    print(i)"
   ]
  },
  {
   "cell_type": "code",
   "execution_count": 7,
   "metadata": {},
   "outputs": [
    {
     "name": "stdout",
     "output_type": "stream",
     "text": [
      "55\n"
     ]
    }
   ],
   "source": [
    "i = 0\n",
    "result = 0\n",
    "while i < 10:\n",
    "    i = i + 1\n",
    "    result += i\n",
    " \n",
    " \n",
    "print(format(result))"
   ]
  },
  {
   "cell_type": "code",
   "execution_count": 8,
   "metadata": {},
   "outputs": [
    {
     "name": "stdout",
     "output_type": "stream",
     "text": [
      "0\n",
      "1\n",
      "2\n",
      "3\n",
      "4\n",
      "hello\n"
     ]
    }
   ],
   "source": [
    "for item in range(0,5):\n",
    "    print (item)\n",
    "else:\n",
    "    print (\"hello\")"
   ]
  },
  {
   "cell_type": "code",
   "execution_count": 9,
   "metadata": {},
   "outputs": [
    {
     "name": "stdout",
     "output_type": "stream",
     "text": [
      "반복문(while) 사용 : 55\n"
     ]
    }
   ],
   "source": [
    "i = 0\n",
    "result = 0\n",
    "while i < 10:\n",
    "    i = i + 1\n",
    "    result += i\n",
    " \n",
    " \n",
    "print('반복문(while) 사용 : {0}'.format(result))"
   ]
  }
 ],
 "metadata": {
  "kernelspec": {
   "display_name": "Python 3",
   "language": "python",
   "name": "python3"
  },
  "language_info": {
   "codemirror_mode": {
    "name": "ipython",
    "version": 3
   },
   "file_extension": ".py",
   "mimetype": "text/x-python",
   "name": "python",
   "nbconvert_exporter": "python",
   "pygments_lexer": "ipython3",
   "version": "3.7.3"
  }
 },
 "nbformat": 4,
 "nbformat_minor": 2
}
