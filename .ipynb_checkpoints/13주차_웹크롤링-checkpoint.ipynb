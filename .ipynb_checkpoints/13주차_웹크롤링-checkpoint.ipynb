{
 "cells": [
  {
   "cell_type": "markdown",
   "metadata": {},
   "source": [
    "### robots.txt 이해"
   ]
  },
  {
   "cell_type": "code",
   "execution_count": 3,
   "metadata": {},
   "outputs": [],
   "source": [
    "# https://www.google.com/robots.txt\n",
    "# https://www.daum.net/robots.txt\n",
    "# 웹사이트주소/robots.txt로 웹 크롤링이 가능한지 체킹하는 것"
   ]
  },
  {
   "cell_type": "markdown",
   "metadata": {},
   "source": [
    "### 웹크롤링"
   ]
  },
  {
   "cell_type": "code",
   "execution_count": 2,
   "metadata": {
    "scrolled": false
   },
   "outputs": [
    {
     "name": "stdout",
     "output_type": "stream",
     "text": [
      "Requirement already satisfied: bs4 in c:\\users\\yser\\anaconda3\\lib\\site-packages (0.0.1)\n",
      "Requirement already satisfied: beautifulsoup4 in c:\\users\\yser\\anaconda3\\lib\\site-packages (from bs4) (4.7.1)\n",
      "Requirement already satisfied: soupsieve>=1.2 in c:\\users\\yser\\anaconda3\\lib\\site-packages (from beautifulsoup4->bs4) (1.8)\n",
      "Note: you may need to restart the kernel to use updated packages.\n"
     ]
    }
   ],
   "source": [
    "pip install bs4\n",
    "# pip: 프로그램 설치"
   ]
  },
  {
   "cell_type": "code",
   "execution_count": 1,
   "metadata": {},
   "outputs": [
    {
     "name": "stdout",
     "output_type": "stream",
     "text": [
      "잔금대출에도 DTI 규제 적용 검토\n",
      "<title>잔금대출에도 DTI 규제 적용 검토</title>\n"
     ]
    }
   ],
   "source": [
    "import requests\n",
    "from bs4 import BeautifulSoup\n",
    "\n",
    "# 1) reqeusts 라이브러리를 활용한 HTML 페이지 요청 \n",
    "# 1-1) res 객체에 HTML 데이터가 저장되고, res.content로 데이터를 추출할 수 있음\n",
    "res = requests.get('http://v.media.daum.net/v/20170615203441266')\n",
    "\n",
    "# print(res.content)\n",
    "# 2) HTML 페이지 파싱 BeautifulSoup(HTML데이터, 파싱방법)\n",
    "# 2-1) BeautifulSoup 파싱방법\n",
    "soup = BeautifulSoup(res.content, 'html.parser')\n",
    "\n",
    "# 3) 필요한 데이터 검색\n",
    "title = soup.find('title')\n",
    "\n",
    "# 4) 필요한 데이터 추출\n",
    "print(title.get_text()) # 텍스트만 출력\n",
    "print(title) # 태그까지 출력"
   ]
  },
  {
   "cell_type": "code",
   "execution_count": 8,
   "metadata": {},
   "outputs": [
    {
     "name": "stdout",
     "output_type": "stream",
     "text": [
      "<h1 id=\"title\">[1]크롤링이란?</h1>\n",
      "[1]크롤링이란?\n",
      "[1]크롤링이란?\n"
     ]
    }
   ],
   "source": [
    "from bs4 import BeautifulSoup\n",
    "\n",
    "html = \"<html> \\\n",
    "            <body> \\\n",
    "                <h1 id='title'>[1]크롤링이란?</h1> \\\n",
    "                <p class='cssstyle'>웹페이지에서 필요한 데이터를 추출하는 것</p> \\\n",
    "                <p id='body' align='center'>파이썬을 중심으로 다양한 웹크롤링 기술 발달</p> \\\n",
    "            </body> \\\n",
    "        </html>\"\n",
    "\n",
    "soup = BeautifulSoup(html, \"html.parser\")\n",
    "\n",
    "# 태그로 검색 방법\n",
    "title_data = soup.find('h1')\n",
    "\n",
    "print(title_data)\n",
    "print(title_data.string)\n",
    "print(title_data.get_text())"
   ]
  },
  {
   "cell_type": "code",
   "execution_count": 11,
   "metadata": {},
   "outputs": [
    {
     "name": "stdout",
     "output_type": "stream",
     "text": [
      "<h1 id=\"title\">[1]크롤링이란?</h1>\n",
      "[1]크롤링이란?\n",
      "[1]크롤링이란?\n"
     ]
    }
   ],
   "source": [
    "from bs4 import BeautifulSoup\n",
    "\n",
    "html = \"<html> \\\n",
    "            <body> \\\n",
    "                <h1 id='title'>[1]크롤링이란?</h1> \\\n",
    "                <p class='cssstyle'>웹페이지에서 필요한 데이터를 추출하는 것</p> \\\n",
    "                <p id='body' align='center'>파이썬을 중심으로 다양한 웹크롤링 기술 발달</p> \\\n",
    "            </body> \\\n",
    "        </html>\"\n",
    "\n",
    "soup = BeautifulSoup(html, \"html.parser\")\n",
    "\n",
    "# 태그로 검색 방법\n",
    "title_data = soup.find('h1')\n",
    "\n",
    "print(title_data)\n",
    "print(title_data.string)\n",
    "print(title_data.get_text())"
   ]
  },
  {
   "cell_type": "code",
   "execution_count": 13,
   "metadata": {},
   "outputs": [
    {
     "name": "stdout",
     "output_type": "stream",
     "text": [
      "<p class=\"cssstyle\">웹페이지에서 필요한 데이터를 추출하는 것</p>\n",
      "웹페이지에서 필요한 데이터를 추출하는 것\n",
      "웹페이지에서 필요한 데이터를 추출하는 것\n"
     ]
    }
   ],
   "source": [
    "# HTML 태그와 CSS class를 활용해서 필요한 데이터를 추출하는 방법1\n",
    "paragraph_data = soup.find('p', class_='cssstyle')\n",
    "\n",
    "print(paragraph_data)\n",
    "print(paragraph_data.string)\n",
    "print(paragraph_data.get_text())"
   ]
  },
  {
   "cell_type": "code",
   "execution_count": 14,
   "metadata": {},
   "outputs": [
    {
     "name": "stdout",
     "output_type": "stream",
     "text": [
      "<p class=\"cssstyle\">웹페이지에서 필요한 데이터를 추출하는 것</p>\n",
      "웹페이지에서 필요한 데이터를 추출하는 것\n",
      "웹페이지에서 필요한 데이터를 추출하는 것\n"
     ]
    }
   ],
   "source": [
    "# HTML 태그와 CSS class를 활용해서 필요한 데이터를 추출하는 방법2\n",
    "paragraph_data = soup.find('p', 'cssstyle')\n",
    "\n",
    "print(paragraph_data)\n",
    "print(paragraph_data.string)\n",
    "print(paragraph_data.get_text())"
   ]
  },
  {
   "cell_type": "code",
   "execution_count": 16,
   "metadata": {},
   "outputs": [
    {
     "name": "stdout",
     "output_type": "stream",
     "text": [
      "<p align=\"center\" id=\"body\">파이썬을 중심으로 다양한 웹크롤링 기술 발달</p>\n",
      "파이썬을 중심으로 다양한 웹크롤링 기술 발달\n",
      "파이썬을 중심으로 다양한 웹크롤링 기술 발달\n"
     ]
    }
   ],
   "source": [
    "# HTML 태그와 태그에 있는 속성:속성값을 활용해서 필요한 데이터를 추출하는 방법\n",
    "paragraph_data = soup.find('p', attrs = {'align': 'center'})\n",
    "print(paragraph_data)\n",
    "print(paragraph_data.string)\n",
    "print(paragraph_data.get_text())"
   ]
  },
  {
   "cell_type": "code",
   "execution_count": 18,
   "metadata": {},
   "outputs": [
    {
     "name": "stdout",
     "output_type": "stream",
     "text": [
      "[<p class=\"cssstyle\">웹페이지에서 필요한 데이터를 추출하는 것</p>, <p align=\"center\" id=\"body\">파이썬을 중심으로 다양한 웹크롤링 기술 발달</p>]\n",
      "웹페이지에서 필요한 데이터를 추출하는 것\n",
      "파이썬을 중심으로 다양한 웹크롤링 기술 발달\n"
     ]
    }
   ],
   "source": [
    "# find_all() 관련된 모든 데이터를 리스트 형태로 추출하는 함수\n",
    "paragraph_data = soup.find_all('p')\n",
    "\n",
    "print(paragraph_data)\n",
    "print(paragraph_data[0].get_text())\n",
    "print(paragraph_data[1].get_text())"
   ]
  },
  {
   "cell_type": "markdown",
   "metadata": {},
   "source": [
    "**BeautifulSoup 라이브러리 활용 string 검색 예제**"
   ]
  },
  {
   "cell_type": "code",
   "execution_count": 21,
   "metadata": {},
   "outputs": [
    {
     "name": "stdout",
     "output_type": "stream",
     "text": [
      "['오대석']\n",
      "['[이주의해시태그-#네이버-클로바]쑥쑥 크는 네이버 AI', '[이주의해시태그-#네이버-클로바]쑥쑥 크는 네이버 AI', '오대석']\n",
      "['검색어 입력폼']\n"
     ]
    }
   ],
   "source": [
    "res = requests.get('http://v.media.daum.net/v/20170518153405933')\n",
    "soup = BeautifulSoup(res.content, 'html5lib') # BeautifulSoup에서 html5lib를 가져옴\n",
    "print (soup.find_all(string='오대석'))\n",
    "print (soup.find_all(string=['[이주의해시태그-#네이버-클로바]쑥쑥 크는 네이버 AI', '오대석']))\n",
    "print (soup.find_all(string='검색어 입력폼'))"
   ]
  },
  {
   "cell_type": "code",
   "execution_count": 29,
   "metadata": {},
   "outputs": [],
   "source": [
    "res = requests.get('http://v.media.daum.net/v/20170518153405933')\n",
    "\n",
    "soup = BeautifulSoup(res.content, 'html5lib')\n",
    "\n"
   ]
  },
  {
   "cell_type": "code",
   "execution_count": 35,
   "metadata": {},
   "outputs": [
    {
     "name": "stdout",
     "output_type": "stream",
     "text": [
      "['오대석']\n",
      "['[이주의해시태그-#네이버-클로바]쑥쑥 크는 네이버 AI', '[이주의해시태그-#네이버-클로바]쑥쑥 크는 네이버 AI', '오대석']\n",
      "['검색어 입력폼']\n"
     ]
    }
   ],
   "source": [
    "print (soup.find_all(string='오대석'))\n",
    "print (soup.find_all(string=['[이주의해시태그-#네이버-클로바]쑥쑥 크는 네이버 AI', '오대석']))\n",
    "print (soup.find_all(string='검색어 입력폼'))"
   ]
  },
  {
   "cell_type": "code",
   "execution_count": 36,
   "metadata": {},
   "outputs": [],
   "source": [
    "res = requests.get('http://v.media.daum.net/v/20170615203441266')\n",
    "soup = BeautifulSoup(res.content, 'html.parser')"
   ]
  },
  {
   "cell_type": "code",
   "execution_count": 3,
   "metadata": {},
   "outputs": [
    {
     "data": {
      "text/plain": [
       "<Response [200]>"
      ]
     },
     "execution_count": 3,
     "metadata": {},
     "output_type": "execute_result"
    }
   ],
   "source": [
    "res # 실행 시 Response가 200이면 정상적으로 값을 가져온 것, 400이면 잘못된 것\n",
    "# res.content 해보면 content값을 다 가져옴"
   ]
  },
  {
   "cell_type": "code",
   "execution_count": 40,
   "metadata": {},
   "outputs": [
    {
     "name": "stdout",
     "output_type": "stream",
     "text": [
      "<title>잔금대출에도 DTI 규제 적용 검토</title>\n",
      "잔금대출에도 DTI 규제 적용 검토\n",
      "잔금대출에도 DTI 규제 적용 검토\n"
     ]
    }
   ],
   "source": [
    "# 태그 검색\n",
    "soup.find('title')\n",
    "\n",
    "# select 함수는 리스트 형태로 전체 반환\n",
    "title = soup.select('title')[0]\n",
    "print (title)\n",
    "print (title.get_text())\n",
    "print(title.string)"
   ]
  },
  {
   "cell_type": "code",
   "execution_count": 42,
   "metadata": {},
   "outputs": [
    {
     "name": "stdout",
     "output_type": "stream",
     "text": [
      "잔금대출에도 DTI 규제 적용 검토\n"
     ]
    }
   ],
   "source": [
    "# 띄어쓰기가 있다면 하위 태그를 검색\n",
    "title = soup.select('html head title')[0]\n",
    "print (title.get_text())"
   ]
  },
  {
   "cell_type": "code",
   "execution_count": 44,
   "metadata": {},
   "outputs": [
    {
     "name": "stdout",
     "output_type": "stream",
     "text": [
      "잔금대출에도 DTI 규제 적용 검토\n"
     ]
    }
   ],
   "source": [
    "# 띄어쓰기가 있다면 하위 태그를 검색\n",
    "# 이때 바로 직계의 자식이 아니여도 관계없음\n",
    "title = soup.select('html title')[0]\n",
    "print (title.get_text())"
   ]
  },
  {
   "cell_type": "code",
   "execution_count": 5,
   "metadata": {},
   "outputs": [
    {
     "ename": "IndexError",
     "evalue": "list index out of range",
     "output_type": "error",
     "traceback": [
      "\u001b[1;31m---------------------------------------------------------------------------\u001b[0m",
      "\u001b[1;31mIndexError\u001b[0m                                Traceback (most recent call last)",
      "\u001b[1;32m<ipython-input-5-75638a76f327>\u001b[0m in \u001b[0;36m<module>\u001b[1;34m\u001b[0m\n\u001b[0;32m      1\u001b[0m \u001b[1;31m# > 를 사용하는 경우 바로 아래의 자식만 검색\u001b[0m\u001b[1;33m\u001b[0m\u001b[1;33m\u001b[0m\u001b[1;33m\u001b[0m\u001b[0m\n\u001b[0;32m      2\u001b[0m \u001b[1;31m# 바로 아래 자식이 아니기 때문에 에러 발생\u001b[0m\u001b[1;33m\u001b[0m\u001b[1;33m\u001b[0m\u001b[1;33m\u001b[0m\u001b[0m\n\u001b[1;32m----> 3\u001b[1;33m \u001b[0mtitle\u001b[0m \u001b[1;33m=\u001b[0m \u001b[0msoup\u001b[0m\u001b[1;33m.\u001b[0m\u001b[0mselect\u001b[0m\u001b[1;33m(\u001b[0m\u001b[1;34m'html > title'\u001b[0m\u001b[1;33m)\u001b[0m\u001b[1;33m[\u001b[0m\u001b[1;36m0\u001b[0m\u001b[1;33m]\u001b[0m\u001b[1;33m\u001b[0m\u001b[1;33m\u001b[0m\u001b[0m\n\u001b[0m\u001b[0;32m      4\u001b[0m \u001b[0mprint\u001b[0m \u001b[1;33m(\u001b[0m\u001b[0mtitle\u001b[0m\u001b[1;33m.\u001b[0m\u001b[0mget_text\u001b[0m\u001b[1;33m(\u001b[0m\u001b[1;33m)\u001b[0m\u001b[1;33m)\u001b[0m\u001b[1;33m\u001b[0m\u001b[1;33m\u001b[0m\u001b[0m\n",
      "\u001b[1;31mIndexError\u001b[0m: list index out of range"
     ]
    }
   ],
   "source": [
    "# > 를 사용하는 경우 바로 아래의 자식만 검색\n",
    "# 바로 아래 자식이 아니기 때문에 에러 발생\n",
    "title = soup.select('html > title')[0]\n",
    "print (title.get_text())"
   ]
  },
  {
   "cell_type": "code",
   "execution_count": 4,
   "metadata": {},
   "outputs": [
    {
     "name": "stdout",
     "output_type": "stream",
     "text": [
      "잔금대출에도 DTI 규제 적용 검토\n"
     ]
    }
   ],
   "source": [
    "# 바로 아래 자식을 검색\n",
    "title = soup.select('head > title')[0] # 또는 'html head title'\n",
    "print (title.get_text())"
   ]
  },
  {
   "cell_type": "code",
   "execution_count": 47,
   "metadata": {},
   "outputs": [
    {
     "name": "stdout",
     "output_type": "stream",
     "text": [
      "내주 부동산 종합대책 발표\n",
      "집값 상승 노린 투기 분양 차단\n",
      "LTVㆍDTI 규제 다시 강화할 듯\n",
      "저소득 실수요자 피해 우려도\n",
      "\n",
      "금융당국이 급증하는 가계부채 증가세를 막기 위해 아파트 잔금대출에도 소득을 따져 대출한도를 정하는 총부채상환비율(DTI)을 적용하는 방안을 유력하게 검토하고 있다. 지금은 집값을 기준으로 대출한도를 매기는 주택담보인정비율(LTV) 규제만 적용돼 소득이 없어도 집값의 70%를 빌려 잔금을 치르는 게 가능하다. 앞으로 잔금대출에 DTI가 적용되면 소득 없는 사람이 입주 뒤 집값 상승을 노리고 분양시장에 뛰어드는 게 사실상 불가능해진다. \n",
      "금융당국 고위관계자는 15일 “잔금대출에도 DTI를 적용하는 방안을 검토 중”이라며 “다만 아직 최종 결론이 난 건 아니다”고 말했다. 정부는 내주 이 같은 내용을 포함한 부동산 종합 대책을 발표할 예정이다. \n",
      "정부가 잔금대출 DTI 적용 카드를 꺼내는 건, 집단대출을 잡지 않고선 과열된 주택시장을 진정시키기 어렵다는 판단에서다. 실제 정부는 지난해 잔금대출도 대출 초기부터 원리금을 함께 갚도록 하는 여신심사 가이드라인을 도입했지만 이렇다 할 효과를 거두지 못했다. 오히려 정부 대책에도 불구, 집단대출 증가액은 매달 늘어나는 추세인데 지난달엔 2조원으로 올 들어 최고치를 기록했다. \n",
      "아파트 분양 집단대출은 중도금과 잔금대출로 구분된다. 계약금 10%를 내면 입주 전까지 집값의 60%를 중도금 대출로 받을 수 있다. 중도금 대출은 건설사 보증으로 이뤄져 소득심사를 안 거친다. 잔금대출은 건설사가 아닌 집을 담보로 이뤄지는 대출이다. LTV 규제만 적용돼 소득이 없어도 집값의 70%까지 대출이 가능하다. 때문에 지금은 잔금대출로 집값의 70%를 대출받아 기존 중도금 대출을 갚고 나머지 20%만 본인 돈으로 충당하면 집을 살 수 있다.\n",
      "앞으로 잔금대출에 DTI가 적용되면 소득이 없는 사람은 집값의 70% 대출 받는 게 어려워진다. 입주 뒤 집값 상승을 노리는 투기수요를 확실히 걸러낼 초강력 대책이 될 수 있다. 하지만 부작용도 우려된다. 소득이 낮은 사회초년생 등은 청약통장을 갖고도 분양시장에 진입하는 게 어려워지기 때문이다. \n",
      "이에 따라 잔금대출에 DTI를 적용하는 것 역시 지역 등에 따라 선별적으로 이뤄질 가능성이 높다. 현재 당국은 신규 분양 물량부터 규제를 적용할지 아니면 기존 분양 물량까지 규제 범위를 확대할지를 놓고 시뮬레이션을 하고 있다. \n",
      "아울러 당국은 지난 2년간 완화됐던 LTV와 DTI를 다시 강화할 것으로 보인다. 현재 LTV(은행 기준)는 기존 50~60%에서 70%, DTI는 50~60%에서 60%로 완화돼 있는 상태다. 당국은 일괄적인 조이기보다 지역ㆍ집값 수준별로 기준을 다르게 적용하는 방식을 모색할 것으로 보인다.\n",
      "김동욱 기자 kdw1280@hankookilbo.com\n"
     ]
    }
   ],
   "source": [
    "# .은 태그의 클래스를 검색\n",
    "# class가 article_view인 태그 탐색\n",
    "body = soup.select('.article_view')[0] # .에서 해당되는 클래스를 선택하고 [0]번째 인덱스를 가져옴\n",
    "# print (type(body), len(body))\n",
    "for p in body.find_all('p'):\n",
    "    print (p.get_text())"
   ]
  },
  {
   "cell_type": "code",
   "execution_count": 48,
   "metadata": {},
   "outputs": [
    {
     "data": {
      "text/plain": [
       "<div class=\"article_view\" data-translation-body=\"true\" id=\"harmonyContainer\">\n",
       "<section dmcf-sid=\"ndxAvoEFLc\">\n",
       "<p dmcf-pid=\"nzrJ5KB3Cc\" dmcf-ptype=\"general\">내주 부동산 종합대책 발표</p>\n",
       "<p dmcf-pid=\"ncFbmYUgSc\" dmcf-ptype=\"general\">집값 상승 노린 투기 분양 차단</p>\n",
       "<p dmcf-pid=\"naDeB8j0HH\" dmcf-ptype=\"general\">LTVㆍDTI 규제 다시 강화할 듯</p>\n",
       "<p dmcf-pid=\"ngfl6lJwwk\" dmcf-ptype=\"general\">저소득 실수요자 피해 우려도</p>\n",
       "<figure class=\"figure_frm origin_fig\" dmcf-pid=\"nYQ8LWIMpD\" dmcf-ptype=\"figure\">\n",
       "<p class=\"link_figure\"><img class=\"thumb_g_article\" data-org-src=\"http://t1.daumcdn.net/news/201706/15/hankooki/20170615044256378kzbd.jpg\" data-org-width=\"330\" dmcf-mid=\"nkjJSoPdyb\" dmcf-mtype=\"image\" height=\"auto\" src=\"https://img4.daumcdn.net/thumb/R658x0.q70/?fname=http://t1.daumcdn.net/news/201706/15/hankooki/20170615044256378kzbd.jpg\" width=\"658\"/></p>\n",
       "</figure>\n",
       "<p dmcf-pid=\"n8guDAko3Z\" dmcf-ptype=\"general\">금융당국이 급증하는 가계부채 증가세를 막기 위해 아파트 잔금대출에도 소득을 따져 대출한도를 정하는 총부채상환비율(DTI)을 적용하는 방안을 유력하게 검토하고 있다. 지금은 집값을 기준으로 대출한도를 매기는 주택담보인정비율(LTV) 규제만 적용돼 소득이 없어도 집값의 70%를 빌려 잔금을 치르는 게 가능하다. 앞으로 잔금대출에 DTI가 적용되면 소득 없는 사람이 입주 뒤 집값 상승을 노리고 분양시장에 뛰어드는 게 사실상 불가능해진다. </p>\n",
       "<p dmcf-pid=\"nYPaCCRO1q\" dmcf-ptype=\"general\">금융당국 고위관계자는 15일 “잔금대출에도 DTI를 적용하는 방안을 검토 중”이라며 “다만 아직 최종 결론이 난 건 아니다”고 말했다. 정부는 내주 이 같은 내용을 포함한 부동산 종합 대책을 발표할 예정이다. </p>\n",
       "<p dmcf-pid=\"naZLBbSgoZ\" dmcf-ptype=\"general\">정부가 잔금대출 DTI 적용 카드를 꺼내는 건, 집단대출을 잡지 않고선 과열된 주택시장을 진정시키기 어렵다는 판단에서다. 실제 정부는 지난해 잔금대출도 대출 초기부터 원리금을 함께 갚도록 하는 여신심사 가이드라인을 도입했지만 이렇다 할 효과를 거두지 못했다. 오히려 정부 대책에도 불구, 집단대출 증가액은 매달 늘어나는 추세인데 지난달엔 2조원으로 올 들어 최고치를 기록했다. </p>\n",
       "<p dmcf-pid=\"nhAfneUtnA\" dmcf-ptype=\"general\">아파트 분양 집단대출은 중도금과 잔금대출로 구분된다. 계약금 10%를 내면 입주 전까지 집값의 60%를 중도금 대출로 받을 수 있다. 중도금 대출은 건설사 보증으로 이뤄져 소득심사를 안 거친다. 잔금대출은 건설사가 아닌 집을 담보로 이뤄지는 대출이다. LTV 규제만 적용돼 소득이 없어도 집값의 70%까지 대출이 가능하다. 때문에 지금은 잔금대출로 집값의 70%를 대출받아 기존 중도금 대출을 갚고 나머지 20%만 본인 돈으로 충당하면 집을 살 수 있다.</p>\n",
       "<p dmcf-pid=\"nCcfu6DK1b\" dmcf-ptype=\"general\">앞으로 잔금대출에 DTI가 적용되면 소득이 없는 사람은 집값의 70% 대출 받는 게 어려워진다. 입주 뒤 집값 상승을 노리는 투기수요를 확실히 걸러낼 초강력 대책이 될 수 있다. 하지만 부작용도 우려된다. 소득이 낮은 사회초년생 등은 청약통장을 갖고도 분양시장에 진입하는 게 어려워지기 때문이다. </p>\n",
       "<p dmcf-pid=\"nzh7QZekII\" dmcf-ptype=\"general\">이에 따라 잔금대출에 DTI를 적용하는 것 역시 지역 등에 따라 선별적으로 이뤄질 가능성이 높다. 현재 당국은 신규 분양 물량부터 규제를 적용할지 아니면 기존 분양 물량까지 규제 범위를 확대할지를 놓고 시뮬레이션을 하고 있다. </p>\n",
       "<p dmcf-pid=\"nihh22vlmu\" dmcf-ptype=\"general\">아울러 당국은 지난 2년간 완화됐던 LTV와 DTI를 다시 강화할 것으로 보인다. 현재 LTV(은행 기준)는 기존 50~60%에서 70%, DTI는 50~60%에서 60%로 완화돼 있는 상태다. 당국은 일괄적인 조이기보다 지역ㆍ집값 수준별로 기준을 다르게 적용하는 방식을 모색할 것으로 보인다.</p>\n",
       "<p dmcf-pid=\"naJ5HNfuMQ\" dmcf-ptype=\"general\">김동욱 기자 kdw1280@hankookilbo.com</p>\n",
       "</section>\n",
       "</div>"
      ]
     },
     "execution_count": 48,
     "metadata": {},
     "output_type": "execute_result"
    }
   ],
   "source": [
    "body"
   ]
  },
  {
   "cell_type": "code",
   "execution_count": 49,
   "metadata": {},
   "outputs": [
    {
     "name": "stdout",
     "output_type": "stream",
     "text": [
      "내주 부동산 종합대책 발표\n",
      "집값 상승 노린 투기 분양 차단\n",
      "LTVㆍDTI 규제 다시 강화할 듯\n",
      "저소득 실수요자 피해 우려도\n",
      "\n",
      "금융당국이 급증하는 가계부채 증가세를 막기 위해 아파트 잔금대출에도 소득을 따져 대출한도를 정하는 총부채상환비율(DTI)을 적용하는 방안을 유력하게 검토하고 있다. 지금은 집값을 기준으로 대출한도를 매기는 주택담보인정비율(LTV) 규제만 적용돼 소득이 없어도 집값의 70%를 빌려 잔금을 치르는 게 가능하다. 앞으로 잔금대출에 DTI가 적용되면 소득 없는 사람이 입주 뒤 집값 상승을 노리고 분양시장에 뛰어드는 게 사실상 불가능해진다. \n",
      "금융당국 고위관계자는 15일 “잔금대출에도 DTI를 적용하는 방안을 검토 중”이라며 “다만 아직 최종 결론이 난 건 아니다”고 말했다. 정부는 내주 이 같은 내용을 포함한 부동산 종합 대책을 발표할 예정이다. \n",
      "정부가 잔금대출 DTI 적용 카드를 꺼내는 건, 집단대출을 잡지 않고선 과열된 주택시장을 진정시키기 어렵다는 판단에서다. 실제 정부는 지난해 잔금대출도 대출 초기부터 원리금을 함께 갚도록 하는 여신심사 가이드라인을 도입했지만 이렇다 할 효과를 거두지 못했다. 오히려 정부 대책에도 불구, 집단대출 증가액은 매달 늘어나는 추세인데 지난달엔 2조원으로 올 들어 최고치를 기록했다. \n",
      "아파트 분양 집단대출은 중도금과 잔금대출로 구분된다. 계약금 10%를 내면 입주 전까지 집값의 60%를 중도금 대출로 받을 수 있다. 중도금 대출은 건설사 보증으로 이뤄져 소득심사를 안 거친다. 잔금대출은 건설사가 아닌 집을 담보로 이뤄지는 대출이다. LTV 규제만 적용돼 소득이 없어도 집값의 70%까지 대출이 가능하다. 때문에 지금은 잔금대출로 집값의 70%를 대출받아 기존 중도금 대출을 갚고 나머지 20%만 본인 돈으로 충당하면 집을 살 수 있다.\n",
      "앞으로 잔금대출에 DTI가 적용되면 소득이 없는 사람은 집값의 70% 대출 받는 게 어려워진다. 입주 뒤 집값 상승을 노리는 투기수요를 확실히 걸러낼 초강력 대책이 될 수 있다. 하지만 부작용도 우려된다. 소득이 낮은 사회초년생 등은 청약통장을 갖고도 분양시장에 진입하는 게 어려워지기 때문이다. \n",
      "이에 따라 잔금대출에 DTI를 적용하는 것 역시 지역 등에 따라 선별적으로 이뤄질 가능성이 높다. 현재 당국은 신규 분양 물량부터 규제를 적용할지 아니면 기존 분양 물량까지 규제 범위를 확대할지를 놓고 시뮬레이션을 하고 있다. \n",
      "아울러 당국은 지난 2년간 완화됐던 LTV와 DTI를 다시 강화할 것으로 보인다. 현재 LTV(은행 기준)는 기존 50~60%에서 70%, DTI는 50~60%에서 60%로 완화돼 있는 상태다. 당국은 일괄적인 조이기보다 지역ㆍ집값 수준별로 기준을 다르게 적용하는 방식을 모색할 것으로 보인다.\n",
      "김동욱 기자 kdw1280@hankookilbo.com\n"
     ]
    }
   ],
   "source": [
    "# div태그 중 class가 article_view인 태그 탐색\n",
    "body = soup.select('div.article_view')[0]\n",
    "#print (type(body), len(body))\n",
    "for p in body.find_all('p'): # p태그만 가져오기\n",
    "    print (p.get_text())"
   ]
  },
  {
   "cell_type": "code",
   "execution_count": 50,
   "metadata": {},
   "outputs": [
    {
     "name": "stdout",
     "output_type": "stream",
     "text": [
      "[<div class=\"article_view\" data-translation-body=\"true\" id=\"harmonyContainer\">\n",
      "<section dmcf-sid=\"ndxAvoEFLc\">\n",
      "<p dmcf-pid=\"nzrJ5KB3Cc\" dmcf-ptype=\"general\">내주 부동산 종합대책 발표</p>\n",
      "<p dmcf-pid=\"ncFbmYUgSc\" dmcf-ptype=\"general\">집값 상승 노린 투기 분양 차단</p>\n",
      "<p dmcf-pid=\"naDeB8j0HH\" dmcf-ptype=\"general\">LTVㆍDTI 규제 다시 강화할 듯</p>\n",
      "<p dmcf-pid=\"ngfl6lJwwk\" dmcf-ptype=\"general\">저소득 실수요자 피해 우려도</p>\n",
      "<figure class=\"figure_frm origin_fig\" dmcf-pid=\"nYQ8LWIMpD\" dmcf-ptype=\"figure\">\n",
      "<p class=\"link_figure\"><img class=\"thumb_g_article\" data-org-src=\"http://t1.daumcdn.net/news/201706/15/hankooki/20170615044256378kzbd.jpg\" data-org-width=\"330\" dmcf-mid=\"nkjJSoPdyb\" dmcf-mtype=\"image\" height=\"auto\" src=\"https://img4.daumcdn.net/thumb/R658x0.q70/?fname=http://t1.daumcdn.net/news/201706/15/hankooki/20170615044256378kzbd.jpg\" width=\"658\"/></p>\n",
      "</figure>\n",
      "<p dmcf-pid=\"n8guDAko3Z\" dmcf-ptype=\"general\">금융당국이 급증하는 가계부채 증가세를 막기 위해 아파트 잔금대출에도 소득을 따져 대출한도를 정하는 총부채상환비율(DTI)을 적용하는 방안을 유력하게 검토하고 있다. 지금은 집값을 기준으로 대출한도를 매기는 주택담보인정비율(LTV) 규제만 적용돼 소득이 없어도 집값의 70%를 빌려 잔금을 치르는 게 가능하다. 앞으로 잔금대출에 DTI가 적용되면 소득 없는 사람이 입주 뒤 집값 상승을 노리고 분양시장에 뛰어드는 게 사실상 불가능해진다. </p>\n",
      "<p dmcf-pid=\"nYPaCCRO1q\" dmcf-ptype=\"general\">금융당국 고위관계자는 15일 “잔금대출에도 DTI를 적용하는 방안을 검토 중”이라며 “다만 아직 최종 결론이 난 건 아니다”고 말했다. 정부는 내주 이 같은 내용을 포함한 부동산 종합 대책을 발표할 예정이다. </p>\n",
      "<p dmcf-pid=\"naZLBbSgoZ\" dmcf-ptype=\"general\">정부가 잔금대출 DTI 적용 카드를 꺼내는 건, 집단대출을 잡지 않고선 과열된 주택시장을 진정시키기 어렵다는 판단에서다. 실제 정부는 지난해 잔금대출도 대출 초기부터 원리금을 함께 갚도록 하는 여신심사 가이드라인을 도입했지만 이렇다 할 효과를 거두지 못했다. 오히려 정부 대책에도 불구, 집단대출 증가액은 매달 늘어나는 추세인데 지난달엔 2조원으로 올 들어 최고치를 기록했다. </p>\n",
      "<p dmcf-pid=\"nhAfneUtnA\" dmcf-ptype=\"general\">아파트 분양 집단대출은 중도금과 잔금대출로 구분된다. 계약금 10%를 내면 입주 전까지 집값의 60%를 중도금 대출로 받을 수 있다. 중도금 대출은 건설사 보증으로 이뤄져 소득심사를 안 거친다. 잔금대출은 건설사가 아닌 집을 담보로 이뤄지는 대출이다. LTV 규제만 적용돼 소득이 없어도 집값의 70%까지 대출이 가능하다. 때문에 지금은 잔금대출로 집값의 70%를 대출받아 기존 중도금 대출을 갚고 나머지 20%만 본인 돈으로 충당하면 집을 살 수 있다.</p>\n",
      "<p dmcf-pid=\"nCcfu6DK1b\" dmcf-ptype=\"general\">앞으로 잔금대출에 DTI가 적용되면 소득이 없는 사람은 집값의 70% 대출 받는 게 어려워진다. 입주 뒤 집값 상승을 노리는 투기수요를 확실히 걸러낼 초강력 대책이 될 수 있다. 하지만 부작용도 우려된다. 소득이 낮은 사회초년생 등은 청약통장을 갖고도 분양시장에 진입하는 게 어려워지기 때문이다. </p>\n",
      "<p dmcf-pid=\"nzh7QZekII\" dmcf-ptype=\"general\">이에 따라 잔금대출에 DTI를 적용하는 것 역시 지역 등에 따라 선별적으로 이뤄질 가능성이 높다. 현재 당국은 신규 분양 물량부터 규제를 적용할지 아니면 기존 분양 물량까지 규제 범위를 확대할지를 놓고 시뮬레이션을 하고 있다. </p>\n",
      "<p dmcf-pid=\"nihh22vlmu\" dmcf-ptype=\"general\">아울러 당국은 지난 2년간 완화됐던 LTV와 DTI를 다시 강화할 것으로 보인다. 현재 LTV(은행 기준)는 기존 50~60%에서 70%, DTI는 50~60%에서 60%로 완화돼 있는 상태다. 당국은 일괄적인 조이기보다 지역ㆍ집값 수준별로 기준을 다르게 적용하는 방식을 모색할 것으로 보인다.</p>\n",
      "<p dmcf-pid=\"naJ5HNfuMQ\" dmcf-ptype=\"general\">김동욱 기자 kdw1280@hankookilbo.com</p>\n",
      "</section>\n",
      "</div>]\n"
     ]
    }
   ],
   "source": [
    "# div 태그 중 id가 harmonyContainer인 태그 탐색\n",
    "container = soup.select('#harmonyContainer')\n",
    "print (container)"
   ]
  },
  {
   "cell_type": "code",
   "execution_count": 7,
   "metadata": {},
   "outputs": [
    {
     "name": "stdout",
     "output_type": "stream",
     "text": [
      "[<div class=\"article_view\" data-translation-body=\"true\" id=\"harmonyContainer\">\n",
      "<section dmcf-sid=\"ndxAvoEFLc\">\n",
      "<p dmcf-pid=\"nzrJ5KB3Cc\" dmcf-ptype=\"general\">내주 부동산 종합대책 발표</p>\n",
      "<p dmcf-pid=\"ncFbmYUgSc\" dmcf-ptype=\"general\">집값 상승 노린 투기 분양 차단</p>\n",
      "<p dmcf-pid=\"naDeB8j0HH\" dmcf-ptype=\"general\">LTVㆍDTI 규제 다시 강화할 듯</p>\n",
      "<p dmcf-pid=\"ngfl6lJwwk\" dmcf-ptype=\"general\">저소득 실수요자 피해 우려도</p>\n",
      "<figure class=\"figure_frm origin_fig\" dmcf-pid=\"nYQ8LWIMpD\" dmcf-ptype=\"figure\">\n",
      "<p class=\"link_figure\"><img class=\"thumb_g_article\" data-org-src=\"http://t1.daumcdn.net/news/201706/15/hankooki/20170615044256378kzbd.jpg\" data-org-width=\"330\" dmcf-mid=\"nkjJSoPdyb\" dmcf-mtype=\"image\" height=\"auto\" src=\"https://img2.daumcdn.net/thumb/R658x0.q70/?fname=http://t1.daumcdn.net/news/201706/15/hankooki/20170615044256378kzbd.jpg\" width=\"658\"/></p>\n",
      "</figure>\n",
      "<p dmcf-pid=\"n8guDAko3Z\" dmcf-ptype=\"general\">금융당국이 급증하는 가계부채 증가세를 막기 위해 아파트 잔금대출에도 소득을 따져 대출한도를 정하는 총부채상환비율(DTI)을 적용하는 방안을 유력하게 검토하고 있다. 지금은 집값을 기준으로 대출한도를 매기는 주택담보인정비율(LTV) 규제만 적용돼 소득이 없어도 집값의 70%를 빌려 잔금을 치르는 게 가능하다. 앞으로 잔금대출에 DTI가 적용되면 소득 없는 사람이 입주 뒤 집값 상승을 노리고 분양시장에 뛰어드는 게 사실상 불가능해진다. </p>\n",
      "<p dmcf-pid=\"nYPaCCRO1q\" dmcf-ptype=\"general\">금융당국 고위관계자는 15일 “잔금대출에도 DTI를 적용하는 방안을 검토 중”이라며 “다만 아직 최종 결론이 난 건 아니다”고 말했다. 정부는 내주 이 같은 내용을 포함한 부동산 종합 대책을 발표할 예정이다. </p>\n",
      "<p dmcf-pid=\"naZLBbSgoZ\" dmcf-ptype=\"general\">정부가 잔금대출 DTI 적용 카드를 꺼내는 건, 집단대출을 잡지 않고선 과열된 주택시장을 진정시키기 어렵다는 판단에서다. 실제 정부는 지난해 잔금대출도 대출 초기부터 원리금을 함께 갚도록 하는 여신심사 가이드라인을 도입했지만 이렇다 할 효과를 거두지 못했다. 오히려 정부 대책에도 불구, 집단대출 증가액은 매달 늘어나는 추세인데 지난달엔 2조원으로 올 들어 최고치를 기록했다. </p>\n",
      "<p dmcf-pid=\"nhAfneUtnA\" dmcf-ptype=\"general\">아파트 분양 집단대출은 중도금과 잔금대출로 구분된다. 계약금 10%를 내면 입주 전까지 집값의 60%를 중도금 대출로 받을 수 있다. 중도금 대출은 건설사 보증으로 이뤄져 소득심사를 안 거친다. 잔금대출은 건설사가 아닌 집을 담보로 이뤄지는 대출이다. LTV 규제만 적용돼 소득이 없어도 집값의 70%까지 대출이 가능하다. 때문에 지금은 잔금대출로 집값의 70%를 대출받아 기존 중도금 대출을 갚고 나머지 20%만 본인 돈으로 충당하면 집을 살 수 있다.</p>\n",
      "<p dmcf-pid=\"nCcfu6DK1b\" dmcf-ptype=\"general\">앞으로 잔금대출에 DTI가 적용되면 소득이 없는 사람은 집값의 70% 대출 받는 게 어려워진다. 입주 뒤 집값 상승을 노리는 투기수요를 확실히 걸러낼 초강력 대책이 될 수 있다. 하지만 부작용도 우려된다. 소득이 낮은 사회초년생 등은 청약통장을 갖고도 분양시장에 진입하는 게 어려워지기 때문이다. </p>\n",
      "<p dmcf-pid=\"nzh7QZekII\" dmcf-ptype=\"general\">이에 따라 잔금대출에 DTI를 적용하는 것 역시 지역 등에 따라 선별적으로 이뤄질 가능성이 높다. 현재 당국은 신규 분양 물량부터 규제를 적용할지 아니면 기존 분양 물량까지 규제 범위를 확대할지를 놓고 시뮬레이션을 하고 있다. </p>\n",
      "<p dmcf-pid=\"nihh22vlmu\" dmcf-ptype=\"general\">아울러 당국은 지난 2년간 완화됐던 LTV와 DTI를 다시 강화할 것으로 보인다. 현재 LTV(은행 기준)는 기존 50~60%에서 70%, DTI는 50~60%에서 60%로 완화돼 있는 상태다. 당국은 일괄적인 조이기보다 지역ㆍ집값 수준별로 기준을 다르게 적용하는 방식을 모색할 것으로 보인다.</p>\n",
      "<p dmcf-pid=\"naJ5HNfuMQ\" dmcf-ptype=\"general\">김동욱 기자 kdw1280@hankookilbo.com</p>\n",
      "</section>\n",
      "</div>]\n"
     ]
    }
   ],
   "source": [
    "# div 태그 중 id가 harmonyContainer인 태그 탐색\n",
    "container = soup.select('#harmonyContainer')\n",
    "print (container)"
   ]
  },
  {
   "cell_type": "code",
   "execution_count": 16,
   "metadata": {},
   "outputs": [
    {
     "name": "stdout",
     "output_type": "stream",
     "text": [
      "<div class=\"article_view\" data-translation-body=\"true\" id=\"harmonyContainer\">\n",
      "<section dmcf-sid=\"ndxAvoEFLc\">\n",
      "<p dmcf-pid=\"nzrJ5KB3Cc\" dmcf-ptype=\"general\">내주 부동산 종합대책 발표</p>\n",
      "<p dmcf-pid=\"ncFbmYUgSc\" dmcf-ptype=\"general\">집값 상승 노린 투기 분양 차단</p>\n",
      "<p dmcf-pid=\"naDeB8j0HH\" dmcf-ptype=\"general\">LTVㆍDTI 규제 다시 강화할 듯</p>\n",
      "<p dmcf-pid=\"ngfl6lJwwk\" dmcf-ptype=\"general\">저소득 실수요자 피해 우려도</p>\n",
      "<figure class=\"figure_frm origin_fig\" dmcf-pid=\"nYQ8LWIMpD\" dmcf-ptype=\"figure\">\n",
      "<p class=\"link_figure\"><img class=\"thumb_g_article\" data-org-src=\"http://t1.daumcdn.net/news/201706/15/hankooki/20170615044256378kzbd.jpg\" data-org-width=\"330\" dmcf-mid=\"nkjJSoPdyb\" dmcf-mtype=\"image\" height=\"auto\" src=\"https://img2.daumcdn.net/thumb/R658x0.q70/?fname=http://t1.daumcdn.net/news/201706/15/hankooki/20170615044256378kzbd.jpg\" width=\"658\"/></p>\n",
      "</figure>\n",
      "<p dmcf-pid=\"n8guDAko3Z\" dmcf-ptype=\"general\">금융당국이 급증하는 가계부채 증가세를 막기 위해 아파트 잔금대출에도 소득을 따져 대출한도를 정하는 총부채상환비율(DTI)을 적용하는 방안을 유력하게 검토하고 있다. 지금은 집값을 기준으로 대출한도를 매기는 주택담보인정비율(LTV) 규제만 적용돼 소득이 없어도 집값의 70%를 빌려 잔금을 치르는 게 가능하다. 앞으로 잔금대출에 DTI가 적용되면 소득 없는 사람이 입주 뒤 집값 상승을 노리고 분양시장에 뛰어드는 게 사실상 불가능해진다. </p>\n",
      "<p dmcf-pid=\"nYPaCCRO1q\" dmcf-ptype=\"general\">금융당국 고위관계자는 15일 “잔금대출에도 DTI를 적용하는 방안을 검토 중”이라며 “다만 아직 최종 결론이 난 건 아니다”고 말했다. 정부는 내주 이 같은 내용을 포함한 부동산 종합 대책을 발표할 예정이다. </p>\n",
      "<p dmcf-pid=\"naZLBbSgoZ\" dmcf-ptype=\"general\">정부가 잔금대출 DTI 적용 카드를 꺼내는 건, 집단대출을 잡지 않고선 과열된 주택시장을 진정시키기 어렵다는 판단에서다. 실제 정부는 지난해 잔금대출도 대출 초기부터 원리금을 함께 갚도록 하는 여신심사 가이드라인을 도입했지만 이렇다 할 효과를 거두지 못했다. 오히려 정부 대책에도 불구, 집단대출 증가액은 매달 늘어나는 추세인데 지난달엔 2조원으로 올 들어 최고치를 기록했다. </p>\n",
      "<p dmcf-pid=\"nhAfneUtnA\" dmcf-ptype=\"general\">아파트 분양 집단대출은 중도금과 잔금대출로 구분된다. 계약금 10%를 내면 입주 전까지 집값의 60%를 중도금 대출로 받을 수 있다. 중도금 대출은 건설사 보증으로 이뤄져 소득심사를 안 거친다. 잔금대출은 건설사가 아닌 집을 담보로 이뤄지는 대출이다. LTV 규제만 적용돼 소득이 없어도 집값의 70%까지 대출이 가능하다. 때문에 지금은 잔금대출로 집값의 70%를 대출받아 기존 중도금 대출을 갚고 나머지 20%만 본인 돈으로 충당하면 집을 살 수 있다.</p>\n",
      "<p dmcf-pid=\"nCcfu6DK1b\" dmcf-ptype=\"general\">앞으로 잔금대출에 DTI가 적용되면 소득이 없는 사람은 집값의 70% 대출 받는 게 어려워진다. 입주 뒤 집값 상승을 노리는 투기수요를 확실히 걸러낼 초강력 대책이 될 수 있다. 하지만 부작용도 우려된다. 소득이 낮은 사회초년생 등은 청약통장을 갖고도 분양시장에 진입하는 게 어려워지기 때문이다. </p>\n",
      "<p dmcf-pid=\"nzh7QZekII\" dmcf-ptype=\"general\">이에 따라 잔금대출에 DTI를 적용하는 것 역시 지역 등에 따라 선별적으로 이뤄질 가능성이 높다. 현재 당국은 신규 분양 물량부터 규제를 적용할지 아니면 기존 분양 물량까지 규제 범위를 확대할지를 놓고 시뮬레이션을 하고 있다. </p>\n",
      "<p dmcf-pid=\"nihh22vlmu\" dmcf-ptype=\"general\">아울러 당국은 지난 2년간 완화됐던 LTV와 DTI를 다시 강화할 것으로 보인다. 현재 LTV(은행 기준)는 기존 50~60%에서 70%, DTI는 50~60%에서 60%로 완화돼 있는 상태다. 당국은 일괄적인 조이기보다 지역ㆍ집값 수준별로 기준을 다르게 적용하는 방식을 모색할 것으로 보인다.</p>\n",
      "<p dmcf-pid=\"naJ5HNfuMQ\" dmcf-ptype=\"general\">김동욱 기자 kdw1280@hankookilbo.com</p>\n",
      "</section>\n",
      "</div>\n"
     ]
    }
   ],
   "source": [
    "# div태그 중 id가 mArticle 인 태그의 하위 태그 중 아이디가 article_title인 태그\n",
    "title = soup.select('div#mArticle div#harmonyContainer')[0]\n",
    "\n",
    "# print (title.get_text())\n",
    "print (title)"
   ]
  },
  {
   "cell_type": "code",
   "execution_count": 54,
   "metadata": {},
   "outputs": [
    {
     "ename": "NameError",
     "evalue": "name 'c' is not defined",
     "output_type": "error",
     "traceback": [
      "\u001b[1;31m---------------------------------------------------------------------------\u001b[0m",
      "\u001b[1;31mNameError\u001b[0m                                 Traceback (most recent call last)",
      "\u001b[1;32m<ipython-input-54-2b66fd261ee5>\u001b[0m in \u001b[0;36m<module>\u001b[1;34m\u001b[0m\n\u001b[1;32m----> 1\u001b[1;33m \u001b[0mc\u001b[0m\u001b[1;33m\u001b[0m\u001b[1;33m\u001b[0m\u001b[0m\n\u001b[0m",
      "\u001b[1;31mNameError\u001b[0m: name 'c' is not defined"
     ]
    }
   ],
   "source": [
    "c"
   ]
  },
  {
   "cell_type": "code",
   "execution_count": 55,
   "metadata": {},
   "outputs": [
    {
     "data": {
      "text/plain": [
       "<div class=\"article_view\" data-translation-body=\"true\" id=\"harmonyContainer\">\n",
       "<section dmcf-sid=\"ndxAvoEFLc\">\n",
       "<p dmcf-pid=\"nzrJ5KB3Cc\" dmcf-ptype=\"general\">내주 부동산 종합대책 발표</p>\n",
       "<p dmcf-pid=\"ncFbmYUgSc\" dmcf-ptype=\"general\">집값 상승 노린 투기 분양 차단</p>\n",
       "<p dmcf-pid=\"naDeB8j0HH\" dmcf-ptype=\"general\">LTVㆍDTI 규제 다시 강화할 듯</p>\n",
       "<p dmcf-pid=\"ngfl6lJwwk\" dmcf-ptype=\"general\">저소득 실수요자 피해 우려도</p>\n",
       "<figure class=\"figure_frm origin_fig\" dmcf-pid=\"nYQ8LWIMpD\" dmcf-ptype=\"figure\">\n",
       "<p class=\"link_figure\"><img class=\"thumb_g_article\" data-org-src=\"http://t1.daumcdn.net/news/201706/15/hankooki/20170615044256378kzbd.jpg\" data-org-width=\"330\" dmcf-mid=\"nkjJSoPdyb\" dmcf-mtype=\"image\" height=\"auto\" src=\"https://img4.daumcdn.net/thumb/R658x0.q70/?fname=http://t1.daumcdn.net/news/201706/15/hankooki/20170615044256378kzbd.jpg\" width=\"658\"/></p>\n",
       "</figure>\n",
       "<p dmcf-pid=\"n8guDAko3Z\" dmcf-ptype=\"general\">금융당국이 급증하는 가계부채 증가세를 막기 위해 아파트 잔금대출에도 소득을 따져 대출한도를 정하는 총부채상환비율(DTI)을 적용하는 방안을 유력하게 검토하고 있다. 지금은 집값을 기준으로 대출한도를 매기는 주택담보인정비율(LTV) 규제만 적용돼 소득이 없어도 집값의 70%를 빌려 잔금을 치르는 게 가능하다. 앞으로 잔금대출에 DTI가 적용되면 소득 없는 사람이 입주 뒤 집값 상승을 노리고 분양시장에 뛰어드는 게 사실상 불가능해진다. </p>\n",
       "<p dmcf-pid=\"nYPaCCRO1q\" dmcf-ptype=\"general\">금융당국 고위관계자는 15일 “잔금대출에도 DTI를 적용하는 방안을 검토 중”이라며 “다만 아직 최종 결론이 난 건 아니다”고 말했다. 정부는 내주 이 같은 내용을 포함한 부동산 종합 대책을 발표할 예정이다. </p>\n",
       "<p dmcf-pid=\"naZLBbSgoZ\" dmcf-ptype=\"general\">정부가 잔금대출 DTI 적용 카드를 꺼내는 건, 집단대출을 잡지 않고선 과열된 주택시장을 진정시키기 어렵다는 판단에서다. 실제 정부는 지난해 잔금대출도 대출 초기부터 원리금을 함께 갚도록 하는 여신심사 가이드라인을 도입했지만 이렇다 할 효과를 거두지 못했다. 오히려 정부 대책에도 불구, 집단대출 증가액은 매달 늘어나는 추세인데 지난달엔 2조원으로 올 들어 최고치를 기록했다. </p>\n",
       "<p dmcf-pid=\"nhAfneUtnA\" dmcf-ptype=\"general\">아파트 분양 집단대출은 중도금과 잔금대출로 구분된다. 계약금 10%를 내면 입주 전까지 집값의 60%를 중도금 대출로 받을 수 있다. 중도금 대출은 건설사 보증으로 이뤄져 소득심사를 안 거친다. 잔금대출은 건설사가 아닌 집을 담보로 이뤄지는 대출이다. LTV 규제만 적용돼 소득이 없어도 집값의 70%까지 대출이 가능하다. 때문에 지금은 잔금대출로 집값의 70%를 대출받아 기존 중도금 대출을 갚고 나머지 20%만 본인 돈으로 충당하면 집을 살 수 있다.</p>\n",
       "<p dmcf-pid=\"nCcfu6DK1b\" dmcf-ptype=\"general\">앞으로 잔금대출에 DTI가 적용되면 소득이 없는 사람은 집값의 70% 대출 받는 게 어려워진다. 입주 뒤 집값 상승을 노리는 투기수요를 확실히 걸러낼 초강력 대책이 될 수 있다. 하지만 부작용도 우려된다. 소득이 낮은 사회초년생 등은 청약통장을 갖고도 분양시장에 진입하는 게 어려워지기 때문이다. </p>\n",
       "<p dmcf-pid=\"nzh7QZekII\" dmcf-ptype=\"general\">이에 따라 잔금대출에 DTI를 적용하는 것 역시 지역 등에 따라 선별적으로 이뤄질 가능성이 높다. 현재 당국은 신규 분양 물량부터 규제를 적용할지 아니면 기존 분양 물량까지 규제 범위를 확대할지를 놓고 시뮬레이션을 하고 있다. </p>\n",
       "<p dmcf-pid=\"nihh22vlmu\" dmcf-ptype=\"general\">아울러 당국은 지난 2년간 완화됐던 LTV와 DTI를 다시 강화할 것으로 보인다. 현재 LTV(은행 기준)는 기존 50~60%에서 70%, DTI는 50~60%에서 60%로 완화돼 있는 상태다. 당국은 일괄적인 조이기보다 지역ㆍ집값 수준별로 기준을 다르게 적용하는 방식을 모색할 것으로 보인다.</p>\n",
       "<p dmcf-pid=\"naJ5HNfuMQ\" dmcf-ptype=\"general\">김동욱 기자 kdw1280@hankookilbo.com</p>\n",
       "</section>\n",
       "</div>"
      ]
     },
     "execution_count": 55,
     "metadata": {},
     "output_type": "execute_result"
    }
   ],
   "source": [
    "title"
   ]
  },
  {
   "cell_type": "code",
   "execution_count": 57,
   "metadata": {},
   "outputs": [
    {
     "name": "stdout",
     "output_type": "stream",
     "text": [
      "http://search.daum.net/search?w=tot&DA=23W&rtmaxcoll=Z8T&q=서울특별시날씨\n",
      "http://search.daum.net/search?w=tot&DA=23W&rtmaxcoll=Z8T&q=수원시 권선구날씨\n",
      "http://search.daum.net/search?w=tot&DA=23W&rtmaxcoll=Z8T&q=인천광역시날씨\n",
      "http://search.daum.net/search?w=tot&DA=23W&rtmaxcoll=Z8T&q=대구광역시날씨\n",
      "http://search.daum.net/search?w=tot&DA=23W&rtmaxcoll=Z8T&q=대전광역시날씨\n",
      "http://search.daum.net/search?w=tot&DA=23W&rtmaxcoll=Z8T&q=광주광역시날씨\n",
      "http://search.daum.net/search?w=tot&DA=23W&rtmaxcoll=Z8T&q=부산광역시날씨\n",
      "http://search.daum.net/search?w=tot&DA=23W&rtmaxcoll=Z8T&q=울산광역시날씨\n",
      "http://search.daum.net/search?w=tot&DA=23W&rtmaxcoll=Z8T&q=울릉군날씨\n",
      "http://search.daum.net/search?w=tot&DA=23W&rtmaxcoll=Z8T&q=춘천시날씨\n",
      "http://search.daum.net/search?w=tot&DA=23W&rtmaxcoll=Z8T&q=강릉시날씨\n",
      "http://search.daum.net/search?w=tot&DA=23W&rtmaxcoll=Z8T&q=백령면날씨\n",
      "http://search.daum.net/search?w=tot&DA=23W&rtmaxcoll=Z8T&q=청주시 상당구날씨\n",
      "http://search.daum.net/search?w=tot&DA=23W&rtmaxcoll=Z8T&q=전주시 완산구날씨\n",
      "http://search.daum.net/search?w=tot&DA=23W&rtmaxcoll=Z8T&q=목포시날씨\n",
      "http://search.daum.net/search?w=tot&DA=23W&rtmaxcoll=Z8T&q=여수시날씨\n",
      "http://search.daum.net/search?w=tot&DA=23W&rtmaxcoll=Z8T&q=제주특별자치도날씨\n",
      "http://search.daum.net/search?w=tot&DA=23W&rtmaxcoll=Z8T&q=안동시날씨\n",
      "http://search.daum.net/search?w=tot&DA=23W&rtmaxcoll=Z8T&q=창원시 의창구날씨\n",
      "http://policy.daum.net/info/info\n",
      "http://cs.daum.net/faq/63.html\n",
      "http://www.kakaocorp.com/\n"
     ]
    }
   ],
   "source": [
    "import re\n",
    "\n",
    "res = requests.get('http://media.daum.net/economic/')\n",
    "\n",
    "soup = BeautifulSoup(res.content, 'html.parser')\n",
    "\n",
    "# a태그이면서 href 속성을 갖는 경우 탐색, 리스트 타입으로 links 변수에 저장됨\n",
    "links = soup.select('a[href]') # 하이퍼링크로 되있는 곳은 for문을 이용해서 가져옴\n",
    "   \n",
    "for link in links:\n",
    "    # print (link) # <a class=\"link_services link_services2\" href=\"http://sports.media.daum.net/sports\">스포츠</a>\n",
    "    # print (link['href']) # http://sports.media.daum.net/sports\n",
    "    if re.search('http://\\w+', link['href']):  \n",
    "        # http:// 문자열 이후에 숫자 또는 문자[a-zA-Z0-9_]가 한 개 이상 있는 데이터와 매치됨 \n",
    "        print (link['href'])"
   ]
  },
  {
   "cell_type": "markdown",
   "metadata": {},
   "source": [
    "**CSS Selector 활용 팁**"
   ]
  },
  {
   "cell_type": "code",
   "execution_count": 58,
   "metadata": {},
   "outputs": [
    {
     "name": "stdout",
     "output_type": "stream",
     "text": [
      " 송파 위례신도시 일반분양 청약 경쟁률 270대 1\n",
      " 고덕강일·광교C6 줄줄이 연기…장관 바뀌면 '로또분양' 끊길까\n",
      " 이달 전국서 브랜드 아파트 7.7만 가구 분양 봇물\n",
      " 서울수서 등 행복주택 5269가구 모집\n",
      " 송파 위례 공공분양 신혼부부·다자녀 특공에 1만4천여명 몰려\n",
      " 청약 '줍줍' 인기 하늘을 찌른다…올해 경쟁률 작년의 2배\n",
      " '로또분양'이라는 위례신도시 공공분양, 사실은 '바가지'?\n",
      " 하남 너마저…과천 이어 감일서도 '79점 통장'\n",
      " 내달부터 세종시 4800가구 청약…국회 이전說에 들썩들썩\n",
      " 희망고문 '과천 로또'…4인가족 만점도 탈락\n",
      " 신기록 세우는 아파트 청약률…국민 절반 이상이 청약통장 가입\n",
      " 전매제한 위반하면 10년간 청약 못한다\n",
      " 더 거세진 '로또청약' 광풍…감일지구도 1순위 405대 1\n",
      " 로또청약 '과천 지정타' 3총사 특별공급에 통장 9만개 몰려\n",
      " 위례·과천·판교…최대 70% 대출되는 신혼희망타운 나온다\n"
     ]
    }
   ],
   "source": [
    "from bs4 import BeautifulSoup\n",
    "import datetime\n",
    "import json\n",
    "\n",
    "#random_url = 'https://hooks.slack.com/services/T6NH7FZLG/B74J31P0V'\n",
    "res = requests.get('http://www.drapt.com/e_sale/index.htm?page_name=esale_news&menu_key=34')\n",
    "soup = BeautifulSoup(res.content, 'html.parser')\n",
    "\n",
    "link_titles = soup.find_all('a', class_='c0000000')\n",
    "link_dates = soup.find_all('span', class_='ffth fs11 c807f7f')\n",
    "today_date = datetime.date.today()\n",
    "\n",
    "for num, link_title in enumerate(link_titles):\n",
    "    print(link_titles[num].get_text())"
   ]
  },
  {
   "cell_type": "code",
   "execution_count": null,
   "metadata": {},
   "outputs": [],
   "source": []
  }
 ],
 "metadata": {
  "kernelspec": {
   "display_name": "Python 3",
   "language": "python",
   "name": "python3"
  },
  "language_info": {
   "codemirror_mode": {
    "name": "ipython",
    "version": 3
   },
   "file_extension": ".py",
   "mimetype": "text/x-python",
   "name": "python",
   "nbconvert_exporter": "python",
   "pygments_lexer": "ipython3",
   "version": "3.7.3"
  }
 },
 "nbformat": 4,
 "nbformat_minor": 2
}
