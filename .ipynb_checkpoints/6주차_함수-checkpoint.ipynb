{
 "cells": [
  {
   "cell_type": "markdown",
   "metadata": {},
   "source": [
    "## 5. 함수 (p. 161-191)\n",
    "### 5.1 함수기초 (p.161-168)\n",
    "* 함수의 장점\n",
    "    * 1. 필요할 때마다 호출 가능\n",
    "    * 2. 논리적인 단위로 분할 가능\n",
    "    * 3. 코드의 캡슐화\n",
    "* 함수의 선언(p.162-163)\n",
    "    * 소문자로 입력\n",
    "    * 띄어쓰기를 할 경우에는 기호를 사용 (예: input_model)\n",
    "    * 외부에 공개하는 함수일 경우, 줄임말을 사용하지 않고 짧고 명료한 이름 정의"
   ]
  },
  {
   "cell_type": "code",
   "execution_count": 5,
   "metadata": {},
   "outputs": [
    {
     "name": "stdout",
     "output_type": "stream",
     "text": [
      "사각형 x의 길이 :  10\n",
      "사각형 y의 길이 :  30\n",
      "사각형의 넓이 :  300\n"
     ]
    }
   ],
   "source": [
    "# 함수의 실행 순서(p.163-164)\n",
    "def calculate_rectangle_area(x,y):\n",
    "    return x*y\n",
    "rectangle_x = 10\n",
    "rectangle_y = 30\n",
    "\n",
    "print(\"사각형 x의 길이 : \", rectangle_x)\n",
    "print(\"사각형 y의 길이 : \", rectangle_y)\n",
    "\n",
    "print(\"사각형의 넓이 : \", calculate_rectangle_area(rectangle_x, rectangle_y))"
   ]
  },
  {
   "cell_type": "markdown",
   "metadata": {},
   "source": [
    "* 함수의 형태 (p.166-167)"
   ]
  },
  {
   "cell_type": "code",
   "execution_count": 7,
   "metadata": {},
   "outputs": [
    {
     "name": "stdout",
     "output_type": "stream",
     "text": [
      "200\n",
      "40\n"
     ]
    }
   ],
   "source": [
    "# 함수의 형태(p. 167p)\n",
    "def a_rectangle_area():\n",
    "    print(10*20)\n",
    "    \n",
    "def b_rectangle_area(x,y):\n",
    "    print(x*y)\n",
    "def c_rectangle_area():\n",
    "    return(10*5)\n",
    "\n",
    "def d_rectangle_area(x,y):\n",
    "    return(x*y)\n",
    "\n",
    "a_rectangle_area()\n",
    "b_rectangle_area(10, 4)"
   ]
  },
  {
   "cell_type": "markdown",
   "metadata": {},
   "source": [
    "### 5.2 함수 심화 (p.169-171)\n",
    "* **함수의 호출방식**\n",
    "    * 값에 의한 호출 : 함수에 인수를 넘길 때 값만 넘김\n",
    "    * 참조호출 : 함수에 인수를 넘길때 메모리 주소를 넘김"
   ]
  },
  {
   "cell_type": "code",
   "execution_count": 8,
   "metadata": {},
   "outputs": [
    {
     "name": "stdout",
     "output_type": "stream",
     "text": [
      "x=5 적용됨 메모리주소: 140726188676032\n",
      "9\n",
      "x=3이 적용됨: 3 메모리주소 140726188675968\n"
     ]
    }
   ],
   "source": [
    "# 값에 의한 호출(Call by Value) (p. 169)\n",
    "def f(x):\n",
    "    y=x\n",
    "    x=5\n",
    "    print(\"x=5 적용됨\", \"메모리주소:\", id(x))\n",
    "    return y*y\n",
    "\n",
    "x=3\n",
    "print(f(x))\n",
    "print(\"x=3이 적용됨:\", x, \"메모리주소\", id(x))"
   ]
  }
 ],
 "metadata": {
  "kernelspec": {
   "display_name": "Python 3",
   "language": "python",
   "name": "python3"
  },
  "language_info": {
   "codemirror_mode": {
    "name": "ipython",
    "version": 3
   },
   "file_extension": ".py",
   "mimetype": "text/x-python",
   "name": "python",
   "nbconvert_exporter": "python",
   "pygments_lexer": "ipython3",
   "version": "3.7.3"
  }
 },
 "nbformat": 4,
 "nbformat_minor": 2
}
