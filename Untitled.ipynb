{
 "cells": [
  {
   "cell_type": "code",
   "execution_count": 1,
   "metadata": {},
   "outputs": [
    {
     "name": "stdout",
     "output_type": "stream",
     "text": [
      "시험 점수를 입력하세요 : 80\n",
      "시험에 합격하셨습니다.\n"
     ]
    }
   ],
   "source": [
    "score = int(input(\"시험 점수를 입력하세요 : \"))\n",
    "if score >= 80:\n",
    "   print(\"시험에 합격하셨습니다.\")\n",
    "else:\n",
    "   print(\"시험에 불합격하셨습니다.\")"
   ]
  },
  {
   "cell_type": "code",
   "execution_count": 2,
   "metadata": {},
   "outputs": [
    {
     "name": "stdout",
     "output_type": "stream",
     "text": [
      "시험 점수를 입력하세요 : 60\n",
      "시험에 불합격하셨습니다.\n"
     ]
    }
   ],
   "source": [
    "score = int(input(\"시험 점수를 입력하세요 : \"))\n",
    "if score >= 80:\n",
    "   print(\"시험에 합격하셨습니다.\")\n",
    "else:\n",
    "   print(\"시험에 불합격하셨습니다.\")"
   ]
  },
  {
   "cell_type": "code",
   "execution_count": 5,
   "metadata": {},
   "outputs": [
    {
     "name": "stdout",
     "output_type": "stream",
     "text": [
      "10 이상입니다.\n",
      "15입니다.\n"
     ]
    }
   ],
   "source": [
    "x=15\n",
    " \n",
    "if x >= 10:\n",
    "     print('10 이상입니다.')\n",
    "        \n",
    "     if x == 15:  \n",
    "         print('15입니다.') \n",
    "            \n",
    "     if x == 20:\n",
    "         print('20입니다.')\n"
   ]
  },
  {
   "cell_type": "code",
   "execution_count": 8,
   "metadata": {},
   "outputs": [
    {
     "name": "stdout",
     "output_type": "stream",
     "text": [
      "5 이상입니다.\n",
      "10입니다.\n"
     ]
    }
   ],
   "source": [
    "x=10\n",
    " \n",
    "if x >= 5:\n",
    "     print('5 이상입니다.')\n",
    "        \n",
    "     if x == 10:  \n",
    "         print('10입니다.') \n",
    "            \n",
    "     if x == 15:\n",
    "         print('15입니다.')"
   ]
  },
  {
   "cell_type": "code",
   "execution_count": 9,
   "metadata": {},
   "outputs": [
    {
     "name": "stdout",
     "output_type": "stream",
     "text": [
      "5 이상입니다.\n",
      "10입니다.\n"
     ]
    }
   ],
   "source": [
    "x=10\n",
    " \n",
    "if x >= 5:\n",
    "     print('5 이상입니다.')\n",
    "        \n",
    "     elif x == 10:  \n",
    "         print('10입니다.') \n",
    "            \n",
    "     elif x == 15:\n",
    "         print('15입니다.')"
   ]
  },
  {
   "cell_type": "code",
   "execution_count": 12,
   "metadata": {},
   "outputs": [
    {
     "ename": "SyntaxError",
     "evalue": "invalid syntax (<ipython-input-12-a961af35253f>, line 6)",
     "output_type": "error",
     "traceback": [
      "\u001b[1;36m  File \u001b[1;32m\"<ipython-input-12-a961af35253f>\"\u001b[1;36m, line \u001b[1;32m6\u001b[0m\n\u001b[1;33m    elif x == 10:\u001b[0m\n\u001b[1;37m       ^\u001b[0m\n\u001b[1;31mSyntaxError\u001b[0m\u001b[1;31m:\u001b[0m invalid syntax\n"
     ]
    }
   ],
   "source": [
    "x=10\n",
    " \n",
    "if x < 5:\n",
    "    print('5 이하입니다.')\n",
    "        \n",
    "    elif x == 10:  \n",
    "         print('10입니다.') \n",
    "            \n",
    "    else x == 15:\n",
    "         print('10이상입니다.')"
   ]
  },
  {
   "cell_type": "code",
   "execution_count": 14,
   "metadata": {},
   "outputs": [
    {
     "ename": "SyntaxError",
     "evalue": "invalid syntax (<ipython-input-14-e7d307c73d61>, line 9)",
     "output_type": "error",
     "traceback": [
      "\u001b[1;36m  File \u001b[1;32m\"<ipython-input-14-e7d307c73d61>\"\u001b[1;36m, line \u001b[1;32m9\u001b[0m\n\u001b[1;33m    else x == 15:\u001b[0m\n\u001b[1;37m         ^\u001b[0m\n\u001b[1;31mSyntaxError\u001b[0m\u001b[1;31m:\u001b[0m invalid syntax\n"
     ]
    }
   ],
   "source": [
    "x=10\n",
    " \n",
    "if x < 5:\n",
    "    print('5 이하입니다.')\n",
    "        \n",
    "elif x == 10:  \n",
    "    print('10입니다.') \n",
    "            \n",
    "else x == 15:\n",
    "    print('10이상입니다.')"
   ]
  },
  {
   "cell_type": "code",
   "execution_count": 16,
   "metadata": {},
   "outputs": [
    {
     "ename": "SyntaxError",
     "evalue": "invalid syntax (<ipython-input-16-9547f187dc12>, line 6)",
     "output_type": "error",
     "traceback": [
      "\u001b[1;36m  File \u001b[1;32m\"<ipython-input-16-9547f187dc12>\"\u001b[1;36m, line \u001b[1;32m6\u001b[0m\n\u001b[1;33m    else x == 15:\u001b[0m\n\u001b[1;37m         ^\u001b[0m\n\u001b[1;31mSyntaxError\u001b[0m\u001b[1;31m:\u001b[0m invalid syntax\n"
     ]
    }
   ],
   "source": [
    "x=10\n",
    "if x < 5:\n",
    "    print('5 이하입니다.')      \n",
    "elif x == 10:  \n",
    "    print('10입니다.')         \n",
    "else x == 15:\n",
    "    print('10이상입니다.')"
   ]
  },
  {
   "cell_type": "code",
   "execution_count": 20,
   "metadata": {},
   "outputs": [
    {
     "name": "stdout",
     "output_type": "stream",
     "text": [
      "10 입니다.\n"
     ]
    }
   ],
   "source": [
    "x=10\n",
    "if x < 5:\n",
    "    print('5 이하입니다.')      \n",
    "elif x == 10:  \n",
    "    print('10 입니다.')         \n",
    "else:\n",
    "    print('10 이상입니다.')"
   ]
  },
  {
   "cell_type": "code",
   "execution_count": 21,
   "metadata": {},
   "outputs": [
    {
     "ename": "NameError",
     "evalue": "name 'number' is not defined",
     "output_type": "error",
     "traceback": [
      "\u001b[1;31m---------------------------------------------------------------------------\u001b[0m",
      "\u001b[1;31mNameError\u001b[0m                                 Traceback (most recent call last)",
      "\u001b[1;32m<ipython-input-21-dbce290790e4>\u001b[0m in \u001b[0;36m<module>\u001b[1;34m\u001b[0m\n\u001b[0;32m      1\u001b[0m \u001b[0mx\u001b[0m\u001b[1;33m=\u001b[0m\u001b[1;36m15\u001b[0m\u001b[1;33m\u001b[0m\u001b[1;33m\u001b[0m\u001b[0m\n\u001b[0;32m      2\u001b[0m \u001b[1;32mif\u001b[0m \u001b[0mx\u001b[0m\u001b[1;33m%\u001b[0m\u001b[1;36m3\u001b[0m\u001b[1;33m==\u001b[0m\u001b[1;36m0\u001b[0m\u001b[1;33m:\u001b[0m\u001b[1;33m\u001b[0m\u001b[1;33m\u001b[0m\u001b[0m\n\u001b[1;32m----> 3\u001b[1;33m     \u001b[0mprint\u001b[0m\u001b[1;33m(\u001b[0m\u001b[1;34m'5 이하입니다.'\u001b[0m\u001b[1;33m.\u001b[0m\u001b[0mformat\u001b[0m\u001b[1;33m(\u001b[0m\u001b[0mnumber\u001b[0m\u001b[1;33m)\u001b[0m\u001b[1;33m)\u001b[0m\u001b[1;33m\u001b[0m\u001b[1;33m\u001b[0m\u001b[0m\n\u001b[0m",
      "\u001b[1;31mNameError\u001b[0m: name 'number' is not defined"
     ]
    }
   ],
   "source": [
    "x=15\n",
    "if x%3==0:\n",
    "    print('5 이하입니다.'.format(number))    "
   ]
  },
  {
   "cell_type": "code",
   "execution_count": 22,
   "metadata": {},
   "outputs": [
    {
     "ename": "NameError",
     "evalue": "name 'number' is not defined",
     "output_type": "error",
     "traceback": [
      "\u001b[1;31m---------------------------------------------------------------------------\u001b[0m",
      "\u001b[1;31mNameError\u001b[0m                                 Traceback (most recent call last)",
      "\u001b[1;32m<ipython-input-22-d5300a3ebb0e>\u001b[0m in \u001b[0;36m<module>\u001b[1;34m\u001b[0m\n\u001b[0;32m      1\u001b[0m \u001b[0mx\u001b[0m\u001b[1;33m=\u001b[0m\u001b[1;36m15\u001b[0m\u001b[1;33m\u001b[0m\u001b[1;33m\u001b[0m\u001b[0m\n\u001b[0;32m      2\u001b[0m \u001b[1;32mif\u001b[0m \u001b[0mx\u001b[0m\u001b[1;33m%\u001b[0m\u001b[1;36m3\u001b[0m\u001b[1;33m==\u001b[0m\u001b[1;36m0\u001b[0m\u001b[1;33m:\u001b[0m\u001b[1;33m\u001b[0m\u001b[1;33m\u001b[0m\u001b[0m\n\u001b[1;32m----> 3\u001b[1;33m     \u001b[0mprint\u001b[0m\u001b[1;33m(\u001b[0m\u001b[1;34m'5 이하입니다.'\u001b[0m\u001b[1;33m,\u001b[0m\u001b[0mformat\u001b[0m\u001b[1;33m(\u001b[0m\u001b[0mnumber\u001b[0m\u001b[1;33m)\u001b[0m\u001b[1;33m)\u001b[0m\u001b[1;33m\u001b[0m\u001b[1;33m\u001b[0m\u001b[0m\n\u001b[0m",
      "\u001b[1;31mNameError\u001b[0m: name 'number' is not defined"
     ]
    }
   ],
   "source": [
    "x=15\n",
    "if x%3==0:\n",
    "    print('5 이하입니다.',format(number))"
   ]
  },
  {
   "cell_type": "code",
   "execution_count": 23,
   "metadata": {},
   "outputs": [
    {
     "name": "stdout",
     "output_type": "stream",
     "text": [
      "5 이하입니다. 15\n"
     ]
    }
   ],
   "source": [
    "x=15\n",
    "if x%3==0:\n",
    "    print('5 이하입니다.',format(x))"
   ]
  },
  {
   "cell_type": "code",
   "execution_count": 42,
   "metadata": {},
   "outputs": [
    {
     "name": "stdout",
     "output_type": "stream",
     "text": [
      "30 는 3의 배수입니다.\n"
     ]
    }
   ],
   "source": [
    "x=30\n",
    "if x%3==0:\n",
    "    print(format(x),'는 3의 배수입니다.')\n",
    "elif x%5==0:\n",
    "    print(format(x),'는 5의 배수입니다.')\n",
    "else:\n",
    "    print(format(x),'는 3과 5의 배수가 아닙니다.')"
   ]
  },
  {
   "cell_type": "code",
   "execution_count": 46,
   "metadata": {},
   "outputs": [
    {
     "name": "stdout",
     "output_type": "stream",
     "text": [
      "10 이하입니다.\n"
     ]
    }
   ],
   "source": [
    "x=0\n",
    "if x < 10:\n",
    "    print('10 이하입니다.')      \n",
    "elif x == 10:  \n",
    "    print('10 입니다.')         \n",
    "else:\n",
    "    print('10 이상입니다.')"
   ]
  },
  {
   "cell_type": "code",
   "execution_count": 51,
   "metadata": {},
   "outputs": [
    {
     "name": "stdout",
     "output_type": "stream",
     "text": [
      "1  *  1  =  1\n",
      "1  *  2  =  2\n",
      "1  *  3  =  3\n",
      "1  *  4  =  4\n",
      "1  *  5  =  5\n",
      "1  *  6  =  6\n",
      "1  *  7  =  7\n",
      "1  *  8  =  8\n",
      "1  *  9  =  9\n",
      "**** 1 단 ****\n",
      "2  *  1  =  2\n",
      "2  *  2  =  4\n",
      "2  *  3  =  6\n",
      "2  *  4  =  8\n",
      "2  *  5  =  10\n",
      "2  *  6  =  12\n",
      "2  *  7  =  14\n",
      "2  *  8  =  16\n",
      "2  *  9  =  18\n",
      "**** 2 단 ****\n",
      "3  *  1  =  3\n",
      "3  *  2  =  6\n",
      "3  *  3  =  9\n",
      "3  *  4  =  12\n",
      "3  *  5  =  15\n",
      "3  *  6  =  18\n",
      "3  *  7  =  21\n",
      "3  *  8  =  24\n",
      "3  *  9  =  27\n",
      "**** 3 단 ****\n",
      "4  *  1  =  4\n",
      "4  *  2  =  8\n",
      "4  *  3  =  12\n",
      "4  *  4  =  16\n",
      "4  *  5  =  20\n",
      "4  *  6  =  24\n",
      "4  *  7  =  28\n",
      "4  *  8  =  32\n",
      "4  *  9  =  36\n",
      "**** 4 단 ****\n",
      "5  *  1  =  5\n",
      "5  *  2  =  10\n",
      "5  *  3  =  15\n",
      "5  *  4  =  20\n",
      "5  *  5  =  25\n",
      "5  *  6  =  30\n",
      "5  *  7  =  35\n",
      "5  *  8  =  40\n",
      "5  *  9  =  45\n",
      "**** 5 단 ****\n",
      "6  *  1  =  6\n",
      "6  *  2  =  12\n",
      "6  *  3  =  18\n",
      "6  *  4  =  24\n",
      "6  *  5  =  30\n",
      "6  *  6  =  36\n",
      "6  *  7  =  42\n",
      "6  *  8  =  48\n",
      "6  *  9  =  54\n",
      "**** 6 단 ****\n",
      "7  *  1  =  7\n",
      "7  *  2  =  14\n",
      "7  *  3  =  21\n",
      "7  *  4  =  28\n",
      "7  *  5  =  35\n",
      "7  *  6  =  42\n",
      "7  *  7  =  49\n",
      "7  *  8  =  56\n",
      "7  *  9  =  63\n",
      "**** 7 단 ****\n",
      "8  *  1  =  8\n",
      "8  *  2  =  16\n",
      "8  *  3  =  24\n",
      "8  *  4  =  32\n",
      "8  *  5  =  40\n",
      "8  *  6  =  48\n",
      "8  *  7  =  56\n",
      "8  *  8  =  64\n",
      "8  *  9  =  72\n",
      "**** 8 단 ****\n",
      "9  *  1  =  9\n",
      "9  *  2  =  18\n",
      "9  *  3  =  27\n",
      "9  *  4  =  36\n",
      "9  *  5  =  45\n",
      "9  *  6  =  54\n",
      "9  *  7  =  63\n",
      "9  *  8  =  72\n",
      "9  *  9  =  81\n",
      "**** 9 단 ****\n",
      "구구단 전체 출력 완료\n"
     ]
    }
   ],
   "source": [
    "for i in range(1, 10):\n",
    "    for j in range(1, 10):\n",
    "        print(i, ' * ', j, ' = ', i * j)\n",
    "    else:\n",
    "        print(\"****\", i, \"단 ****\")\n",
    "else:\n",
    "    print(\"구구단 전체 출력 완료\")"
   ]
  },
  {
   "cell_type": "code",
   "execution_count": 94,
   "metadata": {},
   "outputs": [
    {
     "name": "stdout",
     "output_type": "stream",
     "text": [
      "14\n",
      "숫자를 맞춰보세요 (1~20) 4\n",
      "1  *  1  =  1\n",
      "1  *  2  =  2\n",
      "1  *  3  =  3\n",
      "1  *  4  =  4\n",
      "1  *  5  =  5\n",
      "1  *  6  =  6\n",
      "1  *  7  =  7\n",
      "1  *  8  =  8\n",
      "1  *  9  =  9\n",
      "**** 1 단 ****\n",
      "2  *  1  =  2\n",
      "2  *  2  =  4\n",
      "2  *  3  =  6\n",
      "2  *  4  =  8\n",
      "2  *  5  =  10\n",
      "2  *  6  =  12\n",
      "2  *  7  =  14\n",
      "2  *  8  =  16\n",
      "2  *  9  =  18\n",
      "**** 2 단 ****\n",
      "3  *  1  =  3\n",
      "3  *  2  =  6\n",
      "3  *  3  =  9\n",
      "3  *  4  =  12\n",
      "3  *  5  =  15\n",
      "3  *  6  =  18\n",
      "3  *  7  =  21\n",
      "3  *  8  =  24\n",
      "3  *  9  =  27\n",
      "**** 3 단 ****\n",
      "4  *  1  =  4\n",
      "4  *  2  =  8\n",
      "4  *  3  =  12\n",
      "4  *  4  =  16\n",
      "4  *  5  =  20\n",
      "4  *  6  =  24\n",
      "4  *  7  =  28\n",
      "4  *  8  =  32\n",
      "4  *  9  =  36\n",
      "**** 4 단 ****\n",
      "5  *  1  =  5\n",
      "5  *  2  =  10\n",
      "5  *  3  =  15\n",
      "5  *  4  =  20\n",
      "5  *  5  =  25\n",
      "5  *  6  =  30\n",
      "5  *  7  =  35\n",
      "5  *  8  =  40\n",
      "5  *  9  =  45\n",
      "**** 5 단 ****\n",
      "6  *  1  =  6\n",
      "6  *  2  =  12\n",
      "6  *  3  =  18\n",
      "6  *  4  =  24\n",
      "6  *  5  =  30\n",
      "6  *  6  =  36\n",
      "6  *  7  =  42\n",
      "6  *  8  =  48\n",
      "6  *  9  =  54\n",
      "**** 6 단 ****\n",
      "7  *  1  =  7\n",
      "7  *  2  =  14\n",
      "7  *  3  =  21\n",
      "7  *  4  =  28\n",
      "7  *  5  =  35\n",
      "7  *  6  =  42\n",
      "7  *  7  =  49\n",
      "7  *  8  =  56\n",
      "7  *  9  =  63\n",
      "**** 7 단 ****\n",
      "8  *  1  =  8\n",
      "8  *  2  =  16\n",
      "8  *  3  =  24\n",
      "8  *  4  =  32\n",
      "8  *  5  =  40\n",
      "8  *  6  =  48\n",
      "8  *  7  =  56\n",
      "8  *  8  =  64\n",
      "8  *  9  =  72\n",
      "**** 8 단 ****\n",
      "9  *  1  =  9\n",
      "9  *  2  =  18\n",
      "9  *  3  =  27\n",
      "9  *  4  =  36\n",
      "9  *  5  =  45\n",
      "9  *  6  =  54\n",
      "9  *  7  =  63\n",
      "9  *  8  =  72\n",
      "9  *  9  =  81\n",
      "**** 9 단 ****\n",
      "구구단 전체 출력 완료\n"
     ]
    }
   ],
   "source": [
    "import random\n",
    " \n",
    "i = randint(1, 20)\n",
    "print(i)\n",
    "\n",
    "ran = int(input(\"숫자를 맞춰보세요 (1~20) \"))\n",
    "for i in range(1, 10):\n",
    "    for j in range(1, 10):\n",
    "        print(i, ' * ', j, ' = ', i * j)\n",
    "    else:\n",
    "        print(\"****\", i, \"단 ****\")\n",
    "else:\n",
    "    print(\"구구단 전체 출력 완료\")"
   ]
  },
  {
   "cell_type": "code",
   "execution_count": null,
   "metadata": {},
   "outputs": [
    {
     "name": "stdout",
     "output_type": "stream",
     "text": [
      "5\n",
      "숫자를 맞춰보세요 (1~20)4\n",
      "숫자가 너무 작습니다.\n",
      "숫자를 맞춰보세요 (1~20)6\n",
      "숫자가 너무 큽니다.\n"
     ]
    }
   ],
   "source": [
    "import random\n",
    "number = random.randint(1,20)       #랜덤 숫자 생성\n",
    "print(number)\n",
    "guess = int(input('숫자를 맞춰보세요 (1~20)'))\n",
    "while True:\n",
    "    \n",
    "    if guess == number:\n",
    "        print('정답입니다. 입력한 숫자는 ',guess,'입니다.')\n",
    "        break\n",
    "    elif guess > number:\n",
    "        print('숫자가 너무 큽니다.')\n",
    "    else:\n",
    "        print('숫자가 너무 작습니다.')"
   ]
  }
 ],
 "metadata": {
  "kernelspec": {
   "display_name": "Python 3",
   "language": "python",
   "name": "python3"
  },
  "language_info": {
   "codemirror_mode": {
    "name": "ipython",
    "version": 3
   },
   "file_extension": ".py",
   "mimetype": "text/x-python",
   "name": "python",
   "nbconvert_exporter": "python",
   "pygments_lexer": "ipython3",
   "version": "3.7.3"
  }
 },
 "nbformat": 4,
 "nbformat_minor": 2
}
