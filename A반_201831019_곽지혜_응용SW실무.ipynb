{
 "cells": [
  {
   "cell_type": "code",
   "execution_count": null,
   "metadata": {},
   "outputs": [],
   "source": [
    "import random\n",
    "print('숫자를 맞춰보세요 (1~20)')\n",
    "number = random.randint(1,20)       #랜덤 숫자 생성\n",
    "while True:\n",
    "    guess = input()\n",
    "    if guess == \"x\": ## 프로그램 종료\n",
    "        print('게임을 종료합니다.')\n",
    "        break\n",
    "    elif int(guess) == number:\n",
    "        print('정답입니다. 입력한 숫자는 ',guess,'입니다.')\n",
    "        break\n",
    "    elif int(guess) > number:\n",
    "        print('숫자가 너무 큽니다.')\n",
    "    else:\n",
    "        print('숫자가 너무 작습니다.')"
   ]
  }
 ],
 "metadata": {
  "kernelspec": {
   "display_name": "Python 3",
   "language": "python",
   "name": "python3"
  },
  "language_info": {
   "codemirror_mode": {
    "name": "ipython",
    "version": 3
   },
   "file_extension": ".py",
   "mimetype": "text/x-python",
   "name": "python",
   "nbconvert_exporter": "python",
   "pygments_lexer": "ipython3",
   "version": "3.7.3"
  }
 },
 "nbformat": 4,
 "nbformat_minor": 2
}
