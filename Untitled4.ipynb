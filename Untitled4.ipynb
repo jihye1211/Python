{
 "cells": [
  {
   "cell_type": "code",
   "execution_count": null,
   "metadata": {},
   "outputs": [],
   "source": [
    "import random\n",
    "print('숫자를 맞춰보세요 (1~20)')\n",
    "number = random.randint(1,20)       #랜덤 숫자 생성\n",
    "while True:\n",
    "    guess = input()\n",
    "    if guess == \"x\": ## 프로그램 종료\n",
    "        break\n",
    "    elif int(guess) == number:\n",
    "        print('정답입니다. 입력한 숫자는 ',guess,'입니다.')\n",
    "        break\n",
    "    elif int(guess) > number:\n",
    "        print('숫자가 너무 큽니다.')\n",
    "    elif int(guess) < number:\n",
    "        print('숫자가 너무 작습니다.')\n",
    "    else:\n",
    "        print('잘못입력하셨습니다. 1부터 20까지의 숫자를 입력해 주세요.')"
   ]
  },
  {
   "cell_type": "code",
   "execution_count": null,
   "metadata": {},
   "outputs": [],
   "source": [
    "i = 0\n",
    "result = 0\n",
    "while i < 10:\n",
    "    i = i + 1\n",
    "    result += i\n",
    " \n",
    " \n",
    "print('반복문(while) 사용 : {0}'.format(result))"
   ]
  }
 ],
 "metadata": {
  "kernelspec": {
   "display_name": "Python 3",
   "language": "python",
   "name": "python3"
  },
  "language_info": {
   "codemirror_mode": {
    "name": "ipython",
    "version": 3
   },
   "file_extension": ".py",
   "mimetype": "text/x-python",
   "name": "python",
   "nbconvert_exporter": "python",
   "pygments_lexer": "ipython3",
   "version": "3.7.3"
  }
 },
 "nbformat": 4,
 "nbformat_minor": 2
}
